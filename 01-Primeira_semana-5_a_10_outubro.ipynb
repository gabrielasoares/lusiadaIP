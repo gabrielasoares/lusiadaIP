{
 "cells": [
  {
   "cell_type": "markdown",
   "metadata": {},
   "source": [
    "# Primeiro programa"
   ]
  },
  {
   "cell_type": "code",
   "execution_count": 2,
   "metadata": {},
   "outputs": [
    {
     "name": "stdout",
     "output_type": "stream",
     "text": [
      "Primeira mensagem!\n"
     ]
    }
   ],
   "source": [
    "print(\"Primeira mensagem!\")"
   ]
  },
  {
   "cell_type": "markdown",
   "metadata": {},
   "source": [
    "- É um programa de uma linha\n",
    "- As aspas não aparecem na saída\n",
    "- As aspas delimitam uma string\n",
    "- () delimitam um comando"
   ]
  },
  {
   "cell_type": "code",
   "execution_count": 3,
   "metadata": {},
   "outputs": [
    {
     "ename": "NameError",
     "evalue": "name 'Print' is not defined",
     "output_type": "error",
     "traceback": [
      "\u001b[1;31m---------------------------------------------------------------------------\u001b[0m",
      "\u001b[1;31mNameError\u001b[0m                                 Traceback (most recent call last)",
      "\u001b[1;32m<ipython-input-3-1c93f16a2b82>\u001b[0m in \u001b[0;36m<module>\u001b[1;34m\u001b[0m\n\u001b[1;32m----> 1\u001b[1;33m \u001b[0mPrint\u001b[0m\u001b[1;33m(\u001b[0m\u001b[1;34m\"Primeira mensagem!\"\u001b[0m\u001b[1;33m)\u001b[0m\u001b[1;33m\u001b[0m\u001b[1;33m\u001b[0m\u001b[0m\n\u001b[0m",
      "\u001b[1;31mNameError\u001b[0m: name 'Print' is not defined"
     ]
    }
   ],
   "source": [
    "Print(\"Primeira mensagem!\")"
   ]
  },
  {
   "cell_type": "markdown",
   "metadata": {},
   "source": [
    "- Letras maiúsculas e minúsculas são diferentes\n",
    "- Você reparou que o print está em outra cor?"
   ]
  },
  {
   "cell_type": "code",
   "execution_count": 4,
   "metadata": {},
   "outputs": [
    {
     "ename": "SyntaxError",
     "evalue": "invalid syntax (<ipython-input-4-ed51c963c400>, line 1)",
     "output_type": "error",
     "traceback": [
      "\u001b[1;36m  File \u001b[1;32m\"<ipython-input-4-ed51c963c400>\"\u001b[1;36m, line \u001b[1;32m1\u001b[0m\n\u001b[1;33m    print(Primeira mensagem)\u001b[0m\n\u001b[1;37m                   ^\u001b[0m\n\u001b[1;31mSyntaxError\u001b[0m\u001b[1;31m:\u001b[0m invalid syntax\n"
     ]
    }
   ],
   "source": [
    "print(Primeira mensagem)"
   ]
  },
  {
   "cell_type": "markdown",
   "metadata": {},
   "source": [
    "- Se não utilizarmos aspas, o comando interpertará o Primeira como um identificador/variável, gerando um erro de sintaxe, pois para imprimir duas variáveis elas devem ser separadas por vírugla"
   ]
  },
  {
   "cell_type": "code",
   "execution_count": 9,
   "metadata": {},
   "outputs": [
    {
     "name": "stdout",
     "output_type": "stream",
     "text": [
      "1 2\n"
     ]
    }
   ],
   "source": [
    "numero1 = 1\n",
    "numero2 = 2\n",
    "print(numero1, numero2)"
   ]
  },
  {
   "cell_type": "code",
   "execution_count": 10,
   "metadata": {},
   "outputs": [
    {
     "ename": "SyntaxError",
     "evalue": "Missing parentheses in call to 'print'. Did you mean print(\"Primeira mensagem!\")? (<ipython-input-10-2a3c8b405e95>, line 1)",
     "output_type": "error",
     "traceback": [
      "\u001b[1;36m  File \u001b[1;32m\"<ipython-input-10-2a3c8b405e95>\"\u001b[1;36m, line \u001b[1;32m1\u001b[0m\n\u001b[1;33m    print \"Primeira mensagem!\"\u001b[0m\n\u001b[1;37m          ^\u001b[0m\n\u001b[1;31mSyntaxError\u001b[0m\u001b[1;31m:\u001b[0m Missing parentheses in call to 'print'. Did you mean print(\"Primeira mensagem!\")?\n"
     ]
    }
   ],
   "source": [
    "print \"Primeira mensagem!\""
   ]
  },
  {
   "cell_type": "markdown",
   "metadata": {},
   "source": [
    "- Na versão do Python que usamos os parênteses para o print são obrigatórios"
   ]
  },
  {
   "cell_type": "code",
   "execution_count": 13,
   "metadata": {},
   "outputs": [
    {
     "ename": "IndentationError",
     "evalue": "unexpected indent (<ipython-input-13-1ba43cea44c0>, line 2)",
     "output_type": "error",
     "traceback": [
      "\u001b[1;36m  File \u001b[1;32m\"<ipython-input-13-1ba43cea44c0>\"\u001b[1;36m, line \u001b[1;32m2\u001b[0m\n\u001b[1;33m    print(\"Mensagem para frente\")\u001b[0m\n\u001b[1;37m    ^\u001b[0m\n\u001b[1;31mIndentationError\u001b[0m\u001b[1;31m:\u001b[0m unexpected indent\n"
     ]
    }
   ],
   "source": [
    "print(\"Primeira mensagem!\")\n",
    "    print(\"Mensagem para frente\")"
   ]
  },
  {
   "cell_type": "markdown",
   "metadata": {},
   "source": [
    "Os espaços iniciais possuem um significado (de início e fim de blocos), que serão vistos mais adiante"
   ]
  },
  {
   "cell_type": "markdown",
   "metadata": {},
   "source": [
    "## Interpretador Python\n",
    "- O interpretador é um programa que aceita comandos em python e os executa, linha a linha\n",
    "- Sem o interpretador, nossos programas não podem ser executados\n",
    "- O interpretador verifica se escrevemos corretamente o programa, exibindo mensagens de erro, caso contrário\n",
    "- Existem dois modos de interpretador Python:\n",
    "    - iterativo\n",
    "    - modo de edição"
   ]
  },
  {
   "cell_type": "code",
   "execution_count": 16,
   "metadata": {
    "scrolled": true
   },
   "outputs": [
    {
     "name": "stdout",
     "output_type": "stream",
     "text": [
      " Volume in drive C is New Volume\n",
      " Volume Serial Number is F252-14BA\n",
      "\n",
      " Directory of C:\\Users\\13001228\n",
      "\n",
      "09/10/2020  09:57    <DIR>          .\n",
      "09/10/2020  09:57    <DIR>          ..\n",
      "09/10/2020  09:57    <DIR>          .conda\n",
      "09/10/2020  09:25                43 .condarc\n",
      "09/10/2020  09:54    <DIR>          .idlerc\n",
      "09/10/2020  09:32    <DIR>          .ipynb_checkpoints\n",
      "09/10/2020  09:27    <DIR>          .ipython\n",
      "09/10/2020  09:31    <DIR>          .jupyter\n",
      "09/10/2020  09:28    <DIR>          .matplotlib\n",
      "09/10/2020  09:35    <DIR>          .spyder-py3\n",
      "07/10/2020  11:57    <DIR>          3D Objects\n",
      "09/10/2020  09:22    <DIR>          Anaconda3\n",
      "07/10/2020  11:57    <DIR>          Contacts\n",
      "09/10/2020  09:12    <DIR>          Downloads\n",
      "19/03/2019  05:52    <DIR>          Favorites\n",
      "07/10/2020  11:57    <DIR>          Links\n",
      "07/10/2020  11:57    <DIR>          Music\n",
      "07/10/2020  11:59    <DIR>          OneDrive\n",
      "07/10/2020  11:58    <DIR>          Pictures\n",
      "09/10/2020  09:57             7 821 Primeira aula prática.ipynb\n",
      "09/10/2020  09:56    <DIR>          Python Scripts\n",
      "07/10/2020  11:57    <DIR>          Saved Games\n",
      "07/10/2020  11:58    <DIR>          Searches\n",
      "09/10/2020  09:54                41 teste1.py\n",
      "09/10/2020  08:33    <DIR>          Videos\n",
      "               3 File(s)          7 905 bytes\n",
      "              22 Dir(s)  111 193 767 936 bytes free\n"
     ]
    }
   ],
   "source": [
    "ls"
   ]
  },
  {
   "cell_type": "code",
   "execution_count": 15,
   "metadata": {
    "scrolled": false
   },
   "outputs": [
    {
     "data": {
      "text/plain": [
       "'C:\\\\Users\\\\13001228'"
      ]
     },
     "execution_count": 15,
     "metadata": {},
     "output_type": "execute_result"
    }
   ],
   "source": [
    "pwd"
   ]
  },
  {
   "cell_type": "code",
   "execution_count": 17,
   "metadata": {},
   "outputs": [
    {
     "name": "stdout",
     "output_type": "stream",
     "text": [
      "Primeira mensagem!\n",
      "5\n"
     ]
    }
   ],
   "source": [
    "%run teste1.py"
   ]
  },
  {
   "cell_type": "markdown",
   "metadata": {},
   "source": [
    "## Resumo\n",
    "- Letras maiúsculas e minúsculas são diferentes\n",
    "- Aspas são muito importantes e não devem ser esquecidas. Sempre que abrir aspas, lembre-se de fechá-las\n",
    "- Parênteses não são opcionais\n",
    "- Espaços são importantes na estrutura do programa. O python se baseia na quantidade de espaços em branco antes do início de cada linha para realizar operações."
   ]
  },
  {
   "cell_type": "code",
   "execution_count": 18,
   "metadata": {},
   "outputs": [
    {
     "data": {
      "text/plain": [
       "'C:\\\\Users\\\\13001228'"
      ]
     },
     "execution_count": 18,
     "metadata": {},
     "output_type": "execute_result"
    }
   ],
   "source": [
    "pwd"
   ]
  }
 ],
 "metadata": {
  "kernelspec": {
   "display_name": "Python 3",
   "language": "python",
   "name": "python3"
  },
  "language_info": {
   "codemirror_mode": {
    "name": "ipython",
    "version": 3
   },
   "file_extension": ".py",
   "mimetype": "text/x-python",
   "name": "python",
   "nbconvert_exporter": "python",
   "pygments_lexer": "ipython3",
   "version": "3.8.3"
  }
 },
 "nbformat": 4,
 "nbformat_minor": 4
}
