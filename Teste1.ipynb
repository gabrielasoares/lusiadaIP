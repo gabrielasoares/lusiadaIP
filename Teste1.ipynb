{
 "cells": [
  {
   "cell_type": "markdown",
   "metadata": {},
   "source": [
    "1. Linguagens Alto Nível: mais próximas das linguagens naturais. Linguagens Baixo Nível: mais próximas das linguagens de máquina. O python é de alto nível.\n",
    "\n",
    "2. Letras a e c são válidas, mas más práticas. Reservamos a primeira letra maiúscula para classes, e devemos evitar o uso de caracteres especiais.\n",
    "Letra b inválida, variáveis não podem começar com números. A letra d é válida, porém, a linha não recebe valor atribuído e causaria uma mensgem de erro.\n",
    "\n",
    "3. Saídas\n",
    "\n",
    "    a. True\n",
    "\n",
    "    b. False\n",
    "\n",
    "    c. class str\n",
    "    \n",
    "    e. 0 3 9\n",
    "    \n",
    "      012 345 678\n",
    "   \n",
    "      02468\n",
    "      \n",
    "4. Valores de a\n",
    "\n",
    "a. Para Saída A B --> NA\n",
    "\n",
    "b. Para Saída A --> 15, 21, 27, etc.\n",
    "\n",
    "c. Para Saída B --> 12, 13, 14, 16, 17, 18, 19\n",
    "\n",
    "d. Para Saída C --> 1, 2, 3, 4, 5, 6, 7, 8, 9, 10, 22, 23, 24, 25, etc.\n",
    "\n",
    "5. O único correto sintaticamente é a terceira linha. Os outros estão ou uma ou duas linhas identada para frente.\n",
    "\n",
    "6. '''Python\n",
    "repete = True\n",
    "a = 0\n",
    "b = 0\n",
    "while repete:\n",
    "    print('O')\n",
    "    \n",
    "'''"
   ]
  },
  {
   "cell_type": "code",
   "execution_count": null,
   "metadata": {},
   "outputs": [],
   "source": []
  }
 ],
 "metadata": {
  "kernelspec": {
   "display_name": "Python 3",
   "language": "python",
   "name": "python3"
  },
  "language_info": {
   "codemirror_mode": {
    "name": "ipython",
    "version": 3
   },
   "file_extension": ".py",
   "mimetype": "text/x-python",
   "name": "python",
   "nbconvert_exporter": "python",
   "pygments_lexer": "ipython3",
   "version": "3.8.3"
  }
 },
 "nbformat": 4,
 "nbformat_minor": 4
}
