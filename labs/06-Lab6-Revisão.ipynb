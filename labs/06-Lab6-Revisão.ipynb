{
 "cells": [
  {
   "cell_type": "markdown",
   "metadata": {},
   "source": [
    "# Laboratório 6\n",
    "\n",
    "Uma lista de exercícios geral sobre o que vimos durante o curso, para estudarem para os testes.\n",
    "\n",
    "\n",
    "## Básicos\n",
    "\n",
    "### 1. Escreva um programa que, quando corre, imprima a estrutura do [jogo do galo](https://pt.wikipedia.org/wiki/Jogo_da_velha). \n",
    "\n",
    "```\n",
    "   |   |\n",
    "------------\n",
    "   |   |\n",
    "------------\n",
    "   |   |\n",
    "\n",
    "```"
   ]
  },
  {
   "cell_type": "code",
   "execution_count": 1,
   "metadata": {},
   "outputs": [
    {
     "name": "stdout",
     "output_type": "stream",
     "text": [
      "   |   |   \n",
      "------------\n",
      "   |   |   \n",
      "------------\n",
      "   |   |   \n"
     ]
    }
   ],
   "source": [
    "print(\"   |   |   \", sep=\"\\n\")\n",
    "print(\"------------\", sep=\"\\n\")\n",
    "print(\"   |   |   \", sep=\"\\n\")\n",
    "print(\"------------\", sep=\"\\n\")\n",
    "print(\"   |   |   \", sep=\"\\n\")"
   ]
  },
  {
   "cell_type": "markdown",
   "metadata": {},
   "source": [
    "### 2. Reescreva o programa anterior de maneira que todo o resultado do print seja armazenado na mesma variável. Ou seja, imagine que a minha variável seja board, o comando print(board) deve ter saída igual ao exercício 1.\n",
    "\n",
    "```\n",
    "board = ...\n",
    "print(board)\n",
    "\n",
    "[out]: \n",
    "   |   |\n",
    "------------\n",
    "   |   |\n",
    "------------\n",
    "   |   |\n",
    "\n",
    "```"
   ]
  },
  {
   "cell_type": "code",
   "execution_count": 2,
   "metadata": {},
   "outputs": [
    {
     "name": "stdout",
     "output_type": "stream",
     "text": [
      "   |   |   \n",
      "------------ \n",
      "   |   |   \n",
      "------------ \n",
      "   |   |   \n",
      "\n"
     ]
    }
   ],
   "source": [
    "spaces = \"   |   |   \\n\"\n",
    "line = \"------------ \\n\"\n",
    "board = spaces + line + spaces + line + spaces\n",
    "print(board)"
   ]
  },
  {
   "cell_type": "markdown",
   "metadata": {},
   "source": [
    "### 3. Usando o Python como uma calculadora: escreva programas que imprimam as respostas para as seguintes expressões matemáticas:\n",
    "\n",
    "    * Tipos e resultados de operações simples:\n",
    "    \n",
    "    a) $\\frac{5}{2}$"
   ]
  },
  {
   "cell_type": "code",
   "execution_count": 3,
   "metadata": {},
   "outputs": [
    {
     "data": {
      "text/plain": [
       "2.5"
      ]
     },
     "execution_count": 3,
     "metadata": {},
     "output_type": "execute_result"
    }
   ],
   "source": [
    "5/2"
   ]
  },
  {
   "cell_type": "markdown",
   "metadata": {},
   "source": [
    "b) $\\frac{5}{2.0}$"
   ]
  },
  {
   "cell_type": "code",
   "execution_count": 4,
   "metadata": {},
   "outputs": [
    {
     "data": {
      "text/plain": [
       "2.5"
      ]
     },
     "execution_count": 4,
     "metadata": {},
     "output_type": "execute_result"
    }
   ],
   "source": [
    "5/2.0"
   ]
  },
  {
   "cell_type": "markdown",
   "metadata": {},
   "source": [
    "c) $\\frac{5.0}{2}$"
   ]
  },
  {
   "cell_type": "code",
   "execution_count": 5,
   "metadata": {},
   "outputs": [
    {
     "data": {
      "text/plain": [
       "2.5"
      ]
     },
     "execution_count": 5,
     "metadata": {},
     "output_type": "execute_result"
    }
   ],
   "source": [
    "5.0/2"
   ]
  },
  {
   "cell_type": "markdown",
   "metadata": {},
   "source": [
    "d) $7 \\times \\frac{1}{2}$ "
   ]
  },
  {
   "cell_type": "code",
   "execution_count": 6,
   "metadata": {},
   "outputs": [
    {
     "data": {
      "text/plain": [
       "3.5"
      ]
     },
     "execution_count": 6,
     "metadata": {},
     "output_type": "execute_result"
    }
   ],
   "source": [
    "7*1/2"
   ]
  },
  {
   "cell_type": "markdown",
   "metadata": {},
   "source": [
    "e) $7 \\times \\frac{1}{2}$"
   ]
  },
  {
   "cell_type": "code",
   "execution_count": 7,
   "metadata": {},
   "outputs": [
    {
     "data": {
      "text/plain": [
       "3.5"
      ]
     },
     "execution_count": 7,
     "metadata": {},
     "output_type": "execute_result"
    }
   ],
   "source": [
    "7*1/2"
   ]
  },
  {
   "cell_type": "markdown",
   "metadata": {},
   "source": [
    " f) $5^2$"
   ]
  },
  {
   "cell_type": "code",
   "execution_count": 8,
   "metadata": {},
   "outputs": [
    {
     "data": {
      "text/plain": [
       "25"
      ]
     },
     "execution_count": 8,
     "metadata": {},
     "output_type": "execute_result"
    }
   ],
   "source": [
    "5**2"
   ]
  },
  {
   "cell_type": "markdown",
   "metadata": {},
   "source": [
    " g) $5.0^2$"
   ]
  },
  {
   "cell_type": "code",
   "execution_count": 9,
   "metadata": {},
   "outputs": [
    {
     "data": {
      "text/plain": [
       "25.0"
      ]
     },
     "execution_count": 9,
     "metadata": {},
     "output_type": "execute_result"
    }
   ],
   "source": [
    "5.0**2"
   ]
  },
  {
   "cell_type": "markdown",
   "metadata": {},
   "source": [
    "h) $5^{2.0}$    "
   ]
  },
  {
   "cell_type": "code",
   "execution_count": 10,
   "metadata": {},
   "outputs": [
    {
     "data": {
      "text/plain": [
       "25.0"
      ]
     },
     "execution_count": 10,
     "metadata": {},
     "output_type": "execute_result"
    }
   ],
   "source": [
    "5**2.0"
   ]
  },
  {
   "cell_type": "markdown",
   "metadata": {},
   "source": [
    "#### i) Qual a diferença entre as operações realizadas com relação ao tipo e resultado final?\n",
    "\n",
    "Quando a operação só envolve números inteiros e o resultado é inteiro, o tipo do resultado é inteiro. Já quando um dos números é do tipo float, o resultado é float, mesmo quando é exato (25.0)\n",
    "    "
   ]
  },
  {
   "cell_type": "markdown",
   "metadata": {},
   "source": [
    "#### j) $\\frac{1}{3}$ Observe que o resultado final é arredondado. Pesquise sobre a precisão desse tipo de operação em Python. Por que o resultado é arredondado?\n",
    "\n",
    "R: https://docs.python.org/3/tutorial/floatingpoint.html"
   ]
  },
  {
   "cell_type": "code",
   "execution_count": 11,
   "metadata": {},
   "outputs": [
    {
     "data": {
      "text/plain": [
       "0.3333333333333333"
      ]
     },
     "execution_count": 11,
     "metadata": {},
     "output_type": "execute_result"
    }
   ],
   "source": [
    "1/3"
   ]
  },
  {
   "cell_type": "markdown",
   "metadata": {},
   "source": [
    "    * Expressões aritméticas: transcreva as seguintes expressões para o Python (sem simplificar antes), preservando a ordem da operação com parênteses, quando necessário.\n",
    "    "
   ]
  },
  {
   "cell_type": "markdown",
   "metadata": {},
   "source": [
    "a) $\\frac{3 \\times 5}{2 + 3}$ "
   ]
  },
  {
   "cell_type": "code",
   "execution_count": 12,
   "metadata": {},
   "outputs": [
    {
     "data": {
      "text/plain": [
       "3.0"
      ]
     },
     "execution_count": 12,
     "metadata": {},
     "output_type": "execute_result"
    }
   ],
   "source": [
    "(3*5)/(2+3)"
   ]
  },
  {
   "cell_type": "markdown",
   "metadata": {},
   "source": [
    "b) $\\sqrt{7 + 9}\\times 2$\n",
    "    "
   ]
  },
  {
   "cell_type": "code",
   "execution_count": 13,
   "metadata": {},
   "outputs": [
    {
     "data": {
      "text/plain": [
       "8.0"
      ]
     },
     "execution_count": 13,
     "metadata": {},
     "output_type": "execute_result"
    }
   ],
   "source": [
    "import math\n",
    "math.sqrt(7+9)*2"
   ]
  },
  {
   "cell_type": "markdown",
   "metadata": {},
   "source": [
    "c) $(4 - 7)^3$"
   ]
  },
  {
   "cell_type": "code",
   "execution_count": 14,
   "metadata": {},
   "outputs": [
    {
     "data": {
      "text/plain": [
       "-27"
      ]
     },
     "execution_count": 14,
     "metadata": {},
     "output_type": "execute_result"
    }
   ],
   "source": [
    "(4 - 7)**3"
   ]
  },
  {
   "cell_type": "markdown",
   "metadata": {},
   "source": [
    "    \n",
    "### 4. Escreva um programa que peça ao utilizador para digitar o nome, o apelido e a data de nascimento e imprima o resultado formatado corretamente.\n",
    "```\n",
    "Digite o seu nome: Josué\n",
    "Digite o seu apelido: Silva\n",
    "Informe a sua data de nascimento:\n",
    "Mês:Junho\n",
    "Dia: 23\n",
    "Ano: 2000\n",
    "Josué silva nasceu em 23 de Junho de 2000\n",
    "```\n",
    "\n",
    "Tente fazer esse programa de maneiras diferentes:\n",
    "- usar o argumento sep da função print, \n",
    "- usar f'strings, \n",
    "- concatenar strings usando + \n",
    "- imprimir as strings em um mesmo comando usando print separadas por ,."
   ]
  },
  {
   "cell_type": "code",
   "execution_count": 16,
   "metadata": {},
   "outputs": [
    {
     "name": "stdout",
     "output_type": "stream",
     "text": [
      "Digite o seu nome: Josué\n",
      "Digite o seu apelido: Silva\n",
      "Informe a sua data de nascimento:\n",
      "Mês: Junho\n",
      "Dia: 23\n",
      "Ano: 2000\n",
      "Josué Silva nasceu em 23 de Junho de 2000\n"
     ]
    }
   ],
   "source": [
    "nome = input(\"Digite o seu nome: \")\n",
    "apelido = input(\"Digite o seu apelido: \")\n",
    "print(\"Informe a sua data de nascimento:\")\n",
    "mes = input(\"Mês: \")\n",
    "dia = input(\"Dia: \")\n",
    "ano = input(\"Ano: \")\n",
    "print(f'{nome} {apelido} nasceu em {dia} de {mes} de {ano}')"
   ]
  },
  {
   "cell_type": "markdown",
   "metadata": {},
   "source": [
    "## Condicionais\n",
    "\n",
    "### 1. Escreva um programa para determinar o resultado de um jogo de [pedra, papel e tesoura](https://pt.wikipedia.org/wiki/Pedra,_papel_e_tesoura). O seu programa receberá como entrada as escolhas do Jogador 1 e Jogador 2 e retornará o resultado (o vencedor).\n",
    "\n",
    "<img src=https://upload.wikimedia.org/wikipedia/commons/thumb/6/67/Rock-paper-scissors.svg/1024px-Rock-paper-scissors.svg.png width=\"200\">\n",
    "\n",
    "\n",
    "\n",
    "Dicas:\n",
    "- crie uma tabela da verdade com todas escolhas possíveis para o Jogador 1, Jogador 2 e resultado final. Isso vai ajudá-lo a escrever o programa.\n",
    "- O seu programa deverá perguntar qual foi a escolha do Jogador1 e Jogador2:<br>\n",
    "    Ex: <br>\n",
    "    Jogador 1? pedra <br>\n",
    "    Jogador 2? papel <br>\n",
    "    Jogador 2 ganhou <br>\n",
    "\n",
    "Nota:\n",
    "\n",
    "Só são aceitas como entradas as opções: pedra, papel ou tesoura. Caso o utilizador digite uma opção inválida, o seu programa deverá informar que não é uma entrada válida."
   ]
  },
  {
   "cell_type": "code",
   "execution_count": 18,
   "metadata": {},
   "outputs": [
    {
     "name": "stdout",
     "output_type": "stream",
     "text": [
      "Escolha uma opção válida: \n",
      "\n",
      "Pedra, papel ou tesoura: pedra\n",
      "Pedra, papel ou tesoura: papel\n",
      "Jogador 2 ganhou.\n"
     ]
    }
   ],
   "source": [
    "jogador1 = jogador2 = ''\n",
    "\n",
    "print(\"Escolha uma opção válida: \\n\")\n",
    "contador = 0\n",
    "while jogador1 != 'pedra' and jogador1 != 'papel' and jogador1 != 'tesoura':\n",
    "    if contador != 0:\n",
    "        print(\"Escolha inválida, escolha uma opção válida.\")\n",
    "    jogador1 = input(\"Pedra, papel ou tesoura: \")\n",
    "    jogador1 = jogador1.lower()\n",
    "    contador = contador + 1\n",
    "\n",
    "contador = 0\n",
    "while jogador2 != 'pedra' and jogador2 != 'papel' and jogador2 != 'tesoura':\n",
    "    if contador != 0:\n",
    "        print(\"Escolha inválida, escolha uma opção válida.\")\n",
    "    jogador2 = input(\"Pedra, papel ou tesoura: \")\n",
    "    jogador2 = jogador2.lower()\n",
    "    contador = contador + 1\n",
    "\n",
    "if jogador1 == jogador2:\n",
    "    print(\"Empate\")\n",
    "elif jogador1 == 'pedra':\n",
    "    if jogador2 == 'tesoura':\n",
    "        print(\"Jogador 1 ganhou.\")\n",
    "    else:\n",
    "        print(\"Jogador 2 ganhou.\")\n",
    "elif jogador1 == 'papel':\n",
    "    if jogador2 == 'pedra':\n",
    "        print(\"Jogador 1 ganhou.\")\n",
    "    else:\n",
    "        print(\"Jogador 2 ganhou.\")\n",
    "elif jogador == 'tesoura':\n",
    "    if jogador2 == 'papel':\n",
    "        print('Jogador 1 ganhou.')\n",
    "    else:\n",
    "        print('Jogador 2 ganhou.')\n",
    "    "
   ]
  },
  {
   "cell_type": "markdown",
   "metadata": {},
   "source": [
    "## For and While\n",
    "\n",
    "### 1. Escreva um programa que imprima os equivalentes decimais de: $ \\frac{1}{2}, \\frac{1}{3}, \\frac{1}{4}, ..., \\frac{1}{10}$"
   ]
  },
  {
   "cell_type": "code",
   "execution_count": 19,
   "metadata": {},
   "outputs": [
    {
     "name": "stdout",
     "output_type": "stream",
     "text": [
      "O equivalente decimal de 1/2 é: 0.5\n",
      "O equivalente decimal de 1/3 é: 0.3333333333333333\n",
      "O equivalente decimal de 1/4 é: 0.25\n",
      "O equivalente decimal de 1/5 é: 0.2\n",
      "O equivalente decimal de 1/6 é: 0.16666666666666666\n",
      "O equivalente decimal de 1/7 é: 0.14285714285714285\n",
      "O equivalente decimal de 1/8 é: 0.125\n",
      "O equivalente decimal de 1/9 é: 0.1111111111111111\n",
      "O equivalente decimal de 1/10 é: 0.1\n"
     ]
    }
   ],
   "source": [
    "for i in range(2, 11):\n",
    "    print(f'O equivalente decimal de 1/{i} é: {1/i}')"
   ]
  },
  {
   "cell_type": "markdown",
   "metadata": {},
   "source": [
    "### 2. Escreva um programa que receba como entrada um número e imprima a contagem regressiva do número digitado até zero. O que acontece se o programa receber como entrada um número negativo? O que fazer se o programa receber como entrada um número negativo?\n",
    "\n",
    "R: Se for um número negativo e você usar o range, a contagem regressiva não acontecerá. Com um while, você precisa garantir que o programa não entre em loop."
   ]
  },
  {
   "cell_type": "code",
   "execution_count": 20,
   "metadata": {},
   "outputs": [
    {
     "name": "stdout",
     "output_type": "stream",
     "text": [
      "Digite um número inteiro:10\n",
      "10\n",
      "9\n",
      "8\n",
      "7\n",
      "6\n",
      "5\n",
      "4\n",
      "3\n",
      "2\n",
      "1\n"
     ]
    }
   ],
   "source": [
    "regressiva = int(input(\"Digite um número inteiro:\"))\n",
    "for i in range(regressiva, 0, -1):\n",
    "    print(i)"
   ]
  },
  {
   "cell_type": "code",
   "execution_count": 21,
   "metadata": {},
   "outputs": [
    {
     "name": "stdout",
     "output_type": "stream",
     "text": [
      "Digite um número inteiro:10\n",
      "10\n",
      "9\n",
      "8\n",
      "7\n",
      "6\n",
      "5\n",
      "4\n",
      "3\n",
      "2\n",
      "1\n"
     ]
    }
   ],
   "source": [
    "regressiva = int(input(\"Digite um número inteiro:\"))\n",
    "\n",
    "if regressiva < 0:\n",
    "    print(\"O valor digitado é menor que zero.\")\n",
    "else:\n",
    "    while regressiva > 0:\n",
    "        print(regressiva)\n",
    "        regressiva = regressiva - 1"
   ]
  },
  {
   "cell_type": "markdown",
   "metadata": {},
   "source": [
    "### 3. Escreva um programa que calcule exponenciais usando um for. O seu programa deverá pedir a base (base) e o expoente (exp) e retornar o resultado de $base^{exp}$, sem usar o operador **."
   ]
  },
  {
   "cell_type": "code",
   "execution_count": 22,
   "metadata": {},
   "outputs": [
    {
     "name": "stdout",
     "output_type": "stream",
     "text": [
      "Digite a base:2\n",
      "Digite o expoente:3\n",
      "2**3 = 8\n"
     ]
    }
   ],
   "source": [
    "base = int(input('Digite a base:'))\n",
    "exp = int(input('Digite o expoente:'))\n",
    "\n",
    "resultado = 1\n",
    "for i in range(exp):\n",
    "    resultado = resultado * base\n",
    "\n",
    "print(f'{base}**{exp} = {resultado}')"
   ]
  },
  {
   "cell_type": "markdown",
   "metadata": {},
   "source": [
    "### 4. Escreva um programa que solicite um número ao utilizador e que só pare quando o utilizador informar um número que seja divisível por 2."
   ]
  },
  {
   "cell_type": "code",
   "execution_count": 23,
   "metadata": {},
   "outputs": [
    {
     "name": "stdout",
     "output_type": "stream",
     "text": [
      "Digite um número par:3\n",
      "O número digitado não é par.\n",
      "Digite um número par:4\n"
     ]
    }
   ],
   "source": [
    "par = False\n",
    "\n",
    "while not par:\n",
    "    numero = int(input('Digite um número par:'))\n",
    "    if numero % 2 == 0:\n",
    "        par = True\n",
    "    else:\n",
    "        print(\"O número digitado não é par.\")"
   ]
  },
  {
   "cell_type": "markdown",
   "metadata": {},
   "source": [
    "### 5. Observe o código abaixo:\n",
    "\n",
    "```Python\n",
    "n = 100\n",
    "i = 10\n",
    "\n",
    "while i > 1:\n",
    "    print(i)\n",
    "    if i%2 == 0:\n",
    "        i = i/2\n",
    "    else:\n",
    "        i = i + 1\n",
    "```\n",
    "\n",
    "    a) O que este código faz?\n",
    "    R: O código não faz nada, porque i não é maior que 10, e portanto o código while não é executado. Além disso, o n não faz nada no código.\n",
    "    b) Como poderíamos corrigir este código?\n",
    "    R: podemos alterar o valor de i, ou a condição do while. Se quisermos que o código faça uma contagem regressiva sempre pela metade, podemos arredondar a divisão do i no else."
   ]
  },
  {
   "cell_type": "code",
   "execution_count": 24,
   "metadata": {},
   "outputs": [
    {
     "name": "stdout",
     "output_type": "stream",
     "text": [
      "100\n",
      "50.0\n",
      "25.0\n",
      "12\n",
      "6.0\n",
      "3.0\n",
      "2\n"
     ]
    }
   ],
   "source": [
    "i = 100\n",
    "\n",
    "while i > 1:\n",
    "    print(i)\n",
    "    if i%2 == 0:\n",
    "        i = i/2\n",
    "    else:\n",
    "        i = round(i/2)"
   ]
  },
  {
   "cell_type": "markdown",
   "metadata": {},
   "source": [
    "### 6. Agora, encontre os bugs do programa abaixo:\n",
    "```Python\n",
    "def negate(num):\n",
    "    return -num\n",
    "\n",
    "def large_num(num):\n",
    "    res = (num > 10000)\n",
    "\n",
    "negate(b)\n",
    "neg_b = num\n",
    "\n",
    "print('b:', b, 'neg_b:', neg_b)\n",
    "\n",
    "big = large_num(b)\n",
    "print('b is big: ', big)\n",
    "```\n",
    "\n",
    "    a) Bug 1: a variável b não foi definida\n",
    "    b) Bug 2: a variável num não foi definida\n",
    "    c) Bug 3: a função large_num não retorna nada"
   ]
  },
  {
   "cell_type": "code",
   "execution_count": 25,
   "metadata": {},
   "outputs": [
    {
     "name": "stdout",
     "output_type": "stream",
     "text": [
      "b: 2 neg_b: -2\n",
      "b is big:  False\n"
     ]
    }
   ],
   "source": [
    "def negate(num):\n",
    "    return -num\n",
    "\n",
    "def large_num(num):\n",
    "    res = (num > 10000)\n",
    "    return res\n",
    "b = 2\n",
    "negate(b)\n",
    "neg_b = negate(b)\n",
    "\n",
    "print('b:', b, 'neg_b:', neg_b)\n",
    "\n",
    "big = large_num(b)\n",
    "print('b is big: ', big)\n"
   ]
  },
  {
   "cell_type": "markdown",
   "metadata": {},
   "source": [
    "## Problemas\n",
    "\n",
    "### 1. [Congruência de Zeller](https://pt.wikipedia.org/wiki/Congru%C3%AAncia_de_Zeller): o algoritmo de Zeller calcula o dia da semana a partir de uma data. Escreva um programa que retorne o dia da semana de uma data específica, usando o o algoritmo de Zeller. \n",
    "- Use o exercício 4 da seção de exercícios básicos, mas solicite o mês como um número."
   ]
  },
  {
   "cell_type": "code",
   "execution_count": 26,
   "metadata": {},
   "outputs": [
    {
     "name": "stdout",
     "output_type": "stream",
     "text": [
      "Informe uma data com o mês em números inteiros:\n",
      "Dia: 25\n",
      "Mês: 12\n",
      "Ano: 2020\n",
      "Dia da semana: Sexta\n"
     ]
    }
   ],
   "source": [
    "print(\"Informe uma data com o mês em números inteiros:\")\n",
    "dia = int(input(\"Dia: \"))\n",
    "mes = int(input(\"Mês: \"))\n",
    "ano = int(input(\"Ano: \"))\n",
    "\n",
    "dias_semana = [\"Sábado\", \"Domingo\", \"Segunda\", \"Terça\", \"Quarta\", \"Quinta\", \"Sexta\"]\n",
    "\n",
    "# ajustar o mês para começar em fevereiro e terminar em março\n",
    "if mes <= 2:\n",
    "        mes = mes + 12\n",
    "        \n",
    "# se for janeiro ou fevereiro, consideramos o ano anterior\n",
    "if mes <= 2:\n",
    "    ano = ano - 1\n",
    "\n",
    "# usar a fórmula da congruencia de zeller\n",
    "indice_dia = (dia + math.floor((13 * (mes + 1)) / 5) + ano + math.floor(ano / 4) - math.floor(ano / 100) + math.floor(ano / 400)) % 7\n",
    "\n",
    "print(f'Dia da semana: {dias_semana[indice_dia]}')"
   ]
  },
  {
   "cell_type": "markdown",
   "metadata": {},
   "source": [
    "### 2. Mensagem encriptada: Vamos implementar o [Código de César](https://pt.wikipedia.org/wiki/Cifra_de_C%C3%A9sar). O seu programa deverá solicitar a mensagem e o valor de rotação (shift). O resultado deverá ser a mensagem criptografada. <br>\n",
    "Ex: <br>Alfabeto normal: ABCDEFGHIJKLMNOPQRSTUVWXYZ<br>\n",
    "Shift = 23<br>\n",
    "Alfabeto criptografado: XYZABCDEFGHIJKLMNOPQRSTUVW<br>\n",
    "\n",
    "Normal:  a ligeira raposa marrom saltou sobre o cachorro cansado <br>\n",
    "Cifrado: D OLJHLUD UDSRVD PDUURP VDOWRX VREUH R FDFKRUUR FDQVDGR <br>\n",
    "\n",
    "Nota: use valores positivos para representar rotações à direita e valores negativos para representar rotações à esquerda.\n",
    "Atenção às letras maiúsculas e minúsculas."
   ]
  },
  {
   "cell_type": "code",
   "execution_count": 28,
   "metadata": {},
   "outputs": [
    {
     "name": "stdout",
     "output_type": "stream",
     "text": [
      "Digite a mensagem: a ligeira raposa marrom saltou sobre o cachorro cansado\n",
      "Digite a chave de criptografia: 3\n"
     ]
    },
    {
     "data": {
      "text/plain": [
       "'D OLJHLUD UDSRVD PDUURP VDOWRX VREUH R FDFKRUUR FDQVDGR'"
      ]
     },
     "execution_count": 28,
     "metadata": {},
     "output_type": "execute_result"
    }
   ],
   "source": [
    "def traduz_mensagem(mensagem, shift):\n",
    "    mensagem = mensagem.upper()\n",
    "    alfabeto = \"ABCDEFGHIJKLMNOPQRSTUVWXYZ\"\n",
    "    alfabeto_criptografado = '' \n",
    "\n",
    "    tamanho = len(alfabeto)\n",
    "\n",
    "    if shift > 0:\n",
    "        for i in range(tamanho):\n",
    "            alfabeto_criptografado = alfabeto_criptografado + alfabeto[(i + shift) % tamanho] \n",
    "    else:\n",
    "        for i in range(tamanho):\n",
    "            alfabeto_criptografado = alfabeto_criptografado + alfabeto[(i - shift) % tamanho] \n",
    "\n",
    "    mensagem_criptografada = ''\n",
    "    for i in mensagem:\n",
    "        if i == ' ':\n",
    "            mensagem_criptografada = mensagem_criptografada + ' '\n",
    "        else:\n",
    "            mensagem_criptografada = mensagem_criptografada + alfabeto_criptografado[alfabeto.find(i)]\n",
    "    return mensagem_criptografada\n",
    "\n",
    "mensagem = input('Digite a mensagem: ')\n",
    "shift = int(input('Digite a chave de criptografia: '))\n",
    "\n",
    "traduz_mensagem(mensagem, shift)"
   ]
  },
  {
   "cell_type": "markdown",
   "metadata": {},
   "source": [
    "## Dicionários\n",
    "\n",
    "### 1. Complete o dicionário abaixo com as cadeiras que faltam (tanto para o 2o semestre de cada um dos anos, como as do 3o ano)\n",
    "\n",
    "```Python\n",
    "engenharia_informatica = {'1': ('Sistemas Digitais', 'Introdução à Análise Matemática', \n",
    "                                'Introdução aos Algoritmos e Estrutudas de Dados', 'Introdução à Programação',\n",
    "                               'Algebra Linear'),\n",
    "                         '2': ('Complementos de Análise Matemática', 'Computação e Representação Gráfica',\n",
    "                              'Probabilidade e Estatística', 'Complementos de Programação', 'Física')}\n",
    "```"
   ]
  },
  {
   "cell_type": "code",
   "execution_count": 29,
   "metadata": {},
   "outputs": [],
   "source": [
    "engenharia_informatica = {'1': ('Sistemas Digitais', 'Introdução à Análise Matemática', \n",
    "                                'Introdução aos Algoritmos e Estrutudas de Dados', 'Introdução à Programação',\n",
    "                               'Algebra Linear', 'Análise de sistemas', 'Análise matemática', \n",
    "                                'Introdução à física', 'Programação', 'Arquitetura de computadores'),\n",
    "                         '2': ('Complementos de Análise Matemática', 'Computação e Representação Gráfica',\n",
    "                              'Probabilidade e Estatística', 'Complementos de Programação', 'Física',\n",
    "                              'Algoritmos e estruturas de dados', 'Redes de comunicação', 'Bases de dados',\n",
    "                              'Programação avançada', 'História da cultura portuguesa', 'Ética'),\n",
    "                         '3': ('Sistemas operativos', 'Compiladores', 'Circuitos eléctricos e eletrónicos',\n",
    "                              'Redes de computadores', 'Introdução à economia', 'Inteligência artificial',\n",
    "                              'Sistemas distribuídos', 'Introdução à gestão', 'Teoria da computação',\n",
    "                              'Engenharia da programação')}"
   ]
  },
  {
   "cell_type": "markdown",
   "metadata": {},
   "source": [
    "### 2. Escreva um programa que solicite ao utilizador o ano e informe quais são as cadeiras respetivas."
   ]
  },
  {
   "cell_type": "code",
   "execution_count": 30,
   "metadata": {},
   "outputs": [
    {
     "name": "stdout",
     "output_type": "stream",
     "text": [
      "Digite o ano para informações sobre cadeiras: 1\n",
      "As cadeiras do 1o são: \n"
     ]
    },
    {
     "data": {
      "text/plain": [
       "('Sistemas Digitais',\n",
       " 'Introdução à Análise Matemática',\n",
       " 'Introdução aos Algoritmos e Estrutudas de Dados',\n",
       " 'Introdução à Programação',\n",
       " 'Algebra Linear',\n",
       " 'Análise de sistemas',\n",
       " 'Análise matemática',\n",
       " 'Introdução à física',\n",
       " 'Programação',\n",
       " 'Arquitetura de computadores')"
      ]
     },
     "execution_count": 30,
     "metadata": {},
     "output_type": "execute_result"
    }
   ],
   "source": [
    "ano = input(\"Digite o ano para informações sobre cadeiras: \")\n",
    "print(f'As cadeiras do {ano}o são: ')\n",
    "engenharia_informatica[ano]"
   ]
  },
  {
   "cell_type": "markdown",
   "metadata": {},
   "source": [
    "### 3. Escreva um programa que solicite ao utilizador o nome de uma cadeira e retorne o ano daquela cadeira. (Você pode tentar modificar o dicionário ou usar métodos de strings para garantir que as letras maiúsculas, minúsculas e caracteres especiais não interfiram no seu resultado."
   ]
  },
  {
   "cell_type": "code",
   "execution_count": 34,
   "metadata": {},
   "outputs": [
    {
     "name": "stdout",
     "output_type": "stream",
     "text": [
      "Digite a cadeira para saber o ano: Introdução à Programação\n",
      "A cadeira 'Introdução à Programação' faz parte do 1o ano.\n"
     ]
    }
   ],
   "source": [
    "cadeira = input(\"Digite a cadeira para saber o ano: \")\n",
    "ano = 0\n",
    "for key, value in engenharia_informatica.items():\n",
    "    if cadeira in list(value):\n",
    "        ano = key\n",
    "        print(f'A cadeira \\'{cadeira}\\' faz parte do {ano}o ano.')\n",
    "if ano == 0:\n",
    "    print(\"Não encontrei nenhuma cadeira com o nome digitado.\")"
   ]
  },
  {
   "cell_type": "markdown",
   "metadata": {},
   "source": [
    "### 4. Reescreva a Congruência de Zeller seguindo as seguintes instruções:\n",
    "    a) Use um dicionário para relacionar o mês e o seu valor numérico.\n",
    "    b) Você pode usar uma lista ou um dicionário para converter a saída final para o dia da semana.\n",
    "O resultado esperado é que ao chamarmos a função zellers como ```zellers('Março', 10, 1940)``` o valor retornado seja ```Domingo```."
   ]
  },
  {
   "cell_type": "code",
   "execution_count": 35,
   "metadata": {},
   "outputs": [
    {
     "name": "stdout",
     "output_type": "stream",
     "text": [
      "Informe uma data com o mês em extenso:\n",
      "Dia: 10\n",
      "Mês: Março\n",
      "Ano: 1940\n",
      "Dia da semana: Domingo\n"
     ]
    }
   ],
   "source": [
    "def zellers(mes, dia, ano):\n",
    "    mes_nomes = {'Janeiro': 1, 'Fevereiro': 2, 'Março': 3, 'Abril': 4, 'Maio': 5, 'Junho': 6, 'Julho': 7,\n",
    "                'Agosto': 8, 'Setembro': 9, 'Outubro': 10, 'Novembro': 11, 'Dezembro': 12}\n",
    "\n",
    "    dias_semana = [\"Sábado\", \"Domingo\", \"Segunda\", \"Terça\", \"Quarta\", \"Quinta\", \"Sexta\"]\n",
    "    mes = mes_nomes[mes]\n",
    "\n",
    "    # ajustar o mês para começar em fevereiro e terminar em março\n",
    "    if mes <= 2:\n",
    "            mes = mes + 12\n",
    "\n",
    "    # se for janeiro ou fevereiro, consideramos o ano anterior\n",
    "    if mes <= 2:\n",
    "        ano = ano - 1\n",
    "\n",
    "    # usar a fórmula da congruencia de zeller\n",
    "    indice_dia = (dia + math.floor((13 * (mes + 1)) / 5) + ano + math.floor(ano / 4) - math.floor(ano / 100) + math.floor(ano / 400)) % 7\n",
    "\n",
    "    print(f'Dia da semana: {dias_semana[indice_dia]}')    \n",
    "\n",
    "\n",
    "print(\"Informe uma data com o mês em extenso:\")\n",
    "dia = int(input(\"Dia: \"))\n",
    "mes = input(\"Mês: \")\n",
    "ano = int(input(\"Ano: \"))\n",
    "\n",
    "zellers(mes, dia, ano)\n"
   ]
  },
  {
   "cell_type": "markdown",
   "metadata": {},
   "source": [
    "## Arquivos\n",
    "### 1. Escreva um programa que leia um arquivo contendo ao menos 1 número real por linha (o utilizador pode digitar o nome do arquivo no programa), e para cada linha imprima a sua soma. Ao final, o programa deve imprimir também a soma total. Exemplo: para o arquivo números.txt:\n",
    "\n",
    "```\n",
    "5 4 3 2 1\n",
    "4 4 4\n",
    "2.7\n",
    "3.14 2.1\n",
    "```\n",
    "A saída deve ser:\n",
    "\n",
    "```\n",
    "Digite o nome do arquivo: arquivo.txt\n",
    "Soma = 15.000000\n",
    "Soma = 12.000000\n",
    "Soma = 2.700000\n",
    "Soma = 5.240000\n",
    "Total = 34.940000\n",
    "```\n",
    "Notas: verifique se o arquivo digitado existe e encontra-se do diretório correto. "
   ]
  },
  {
   "cell_type": "code",
   "execution_count": 36,
   "metadata": {},
   "outputs": [
    {
     "name": "stdout",
     "output_type": "stream",
     "text": [
      "Soma = 15.000000\n",
      "Soma = 27.000000\n",
      "Soma = 29.700000\n",
      "Soma = 34.940000\n"
     ]
    }
   ],
   "source": [
    "f = open(r'numeros.txt')\n",
    "soma = 0\n",
    "for linha in f.readlines():\n",
    "    numeros = linha.split()\n",
    "    for num in numeros:\n",
    "        soma = soma + float(num)\n",
    "    print(f'Soma = {soma:.6f}')\n",
    "\n",
    "    \n",
    "f.close()"
   ]
  }
 ],
 "metadata": {
  "kernelspec": {
   "display_name": "Python 3",
   "language": "python",
   "name": "python3"
  },
  "language_info": {
   "codemirror_mode": {
    "name": "ipython",
    "version": 3
   },
   "file_extension": ".py",
   "mimetype": "text/x-python",
   "name": "python",
   "nbconvert_exporter": "python",
   "pygments_lexer": "ipython3",
   "version": "3.9.0"
  }
 },
 "nbformat": 4,
 "nbformat_minor": 4
}
