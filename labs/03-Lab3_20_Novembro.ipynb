{
 "cells": [
  {
   "cell_type": "markdown",
   "metadata": {},
   "source": [
    "1. Faça um programa que peça uma nota, entre zero e dez. Caso o valor fornecido seja inválido, exiba uma mensagem de erro e peça novamente, até que o utilizador digite um número válido."
   ]
  },
  {
   "cell_type": "code",
   "execution_count": 1,
   "metadata": {},
   "outputs": [
    {
     "name": "stdout",
     "output_type": "stream",
     "text": [
      "Digite uma nota: 12\n",
      "Notas entre 0 e 10: \n",
      "Digite uma nota válida:7\n"
     ]
    }
   ],
   "source": [
    "nota = float(input('Digite uma nota: '))\n",
    "while nota < 0 or nota > 10:\n",
    "    print('Notas entre 0 e 10: ')\n",
    "    nota = float(input('Digite uma nota válida:'))"
   ]
  },
  {
   "cell_type": "markdown",
   "metadata": {},
   "source": [
    "2. Faça um programa que leia um nome de usuário e a sua senha. O programa não deve aceitar que a senha seja igual ao nome do usuário e continuar solicitando as informações até que sejam válidas."
   ]
  },
  {
   "cell_type": "code",
   "execution_count": 2,
   "metadata": {},
   "outputs": [
    {
     "name": "stdout",
     "output_type": "stream",
     "text": [
      "Usuário: gabriela\n",
      "Senha: gabriela\n",
      "Senha deve ser diferente do Usuário.\n",
      "Usuário: gabriela\n",
      "Senha: aleirbag\n"
     ]
    }
   ],
   "source": [
    "usuario = input('Usuário: ')\n",
    "senha = input('Senha: ')\n",
    "\n",
    "while usuario == senha:\n",
    "    print('Senha deve ser diferente do Usuário.')\n",
    "    usuario = input('Usuário: ')\n",
    "    senha = input('Senha: ')"
   ]
  },
  {
   "cell_type": "markdown",
   "metadata": {},
   "source": [
    "3. Supondo que a população de um país A seja da ordem de 80000 habitantes com uma taxa anual de crescimento de 3% e que a população de um país B seja 200000 habitantes com uma taxa de crescimento de 1.5%. Faça um programa que calcule e escreva o número de anos necessários para que a população do país A ultrapasse ou iguale a população do país B, mantidas as taxas de crescimento"
   ]
  },
  {
   "cell_type": "code",
   "execution_count": 6,
   "metadata": {},
   "outputs": [
    {
     "name": "stdout",
     "output_type": "stream",
     "text": [
      "A população do país A será igual ou superior à população do país B em 63 anos\n"
     ]
    }
   ],
   "source": [
    "populacao_A = 80000\n",
    "populacao_B = 200000\n",
    "anos = 0\n",
    "\n",
    "while populacao_A <= populacao_B:\n",
    "    populacao_A = populacao_A * 1.03\n",
    "    populacao_B = populacao_B * 1.015\n",
    "    anos = anos + 1\n",
    "print(f'A população do país A será igual ou superior à população do país B em {anos} anos')"
   ]
  },
  {
   "cell_type": "markdown",
   "metadata": {},
   "source": [
    "4. A sequência de Fibonacci é a seguinte: 1, 1, 2, 3, 5, 8, 13, 21, 34, 55, ... Sua regra deformação é simples: os dois primeiros elementos são 1; a partir de então, cada elemento é a soma dos dois anteriores. Faça um algoritmo que leia um número inteiro calcule o seu número de Fibonacci. F1= 1, F2= 1, F3= 2, etc."
   ]
  },
  {
   "cell_type": "code",
   "execution_count": 11,
   "metadata": {},
   "outputs": [
    {
     "name": "stdout",
     "output_type": "stream",
     "text": [
      "Digite o número desejado para obter o número de Fibonacci: 1\n",
      "fib(1) = 1\n"
     ]
    }
   ],
   "source": [
    "n = int(input('Digite o número desejado para obter o número de Fibonacci: '))\n",
    "\n",
    "fib1 = 1 \n",
    "fib2 = 1\n",
    "termo = 1\n",
    "\n",
    "if n < 0:\n",
    "    print('N precisa ser maior que 0.')\n",
    "elif n == 1 or n == 2:\n",
    "    print(f'fib({n}) = {fib2}')\n",
    "else:\n",
    "    while termo <= n - 2: # retiramos os dois primeiros termos\n",
    "        auxiliar = fib1 + fib2\n",
    "        fib1 = fib2\n",
    "        fib2 = auxiliar\n",
    "        termo = termo + 1\n",
    "\n",
    "    print(f'fib({n}) = {fib2}')"
   ]
  },
  {
   "cell_type": "markdown",
   "metadata": {},
   "source": [
    "## Pythonic way"
   ]
  },
  {
   "cell_type": "code",
   "execution_count": 10,
   "metadata": {},
   "outputs": [
    {
     "name": "stdout",
     "output_type": "stream",
     "text": [
      "Digite o número desejado para obter o número de Fibonacci: 7\n",
      "fib(7) = 13\n"
     ]
    }
   ],
   "source": [
    "n = int(input('Digite o número desejado para obter o número de Fibonacci: '))\n",
    "\n",
    "fib1, fib2 = 1, 1\n",
    "termo = 1\n",
    "\n",
    "if n < 0:\n",
    "    print('N precisa ser maior que 0.')\n",
    "elif n == 1 or n == 2:\n",
    "    print(f'fib({n}) = {fib2}')\n",
    "else:\n",
    "    while termo <= n - 2: # retiramos os dois primeiros termos\n",
    "        fib1, fib2 = fib2, fib1 + fib2\n",
    "        termo = termo + 1\n",
    "\n",
    "    print(f'fib({n}) = {fib2}')"
   ]
  },
  {
   "cell_type": "markdown",
   "metadata": {},
   "source": [
    "5. Dados dois números inteiros positivos, determinar o máximo divisor comum entre eles usando o algoritmo de Euclides"
   ]
  },
  {
   "cell_type": "code",
   "execution_count": 1,
   "metadata": {},
   "outputs": [
    {
     "name": "stdout",
     "output_type": "stream",
     "text": [
      "Primeiro número: 12\n",
      "Segundo número: 60\n",
      "O mdc entre os dois números é 12\n"
     ]
    }
   ],
   "source": [
    "numero1 = int(input('Primeiro número: '))\n",
    "numero2 = int(input('Segundo número: '))\n",
    "\n",
    "while numero1 % numero2 != 0:\n",
    "    auxiliar = numero1 % numero2\n",
    "    numero1 = numero2\n",
    "    numero2 = auxiliar\n",
    "print(f'O mdc entre os dois números é {numero2}')"
   ]
  },
  {
   "cell_type": "code",
   "execution_count": null,
   "metadata": {},
   "outputs": [],
   "source": [
    "# pythonic way\n",
    "numero1 = int(input('Primeiro número: '))\n",
    "numero2 = int(input('Segundo número: '))\n",
    "\n",
    "while numero1 % numero2 != 0:\n",
    "    numero1, numero2 = numero2, numero1 % numero2\n",
    "print(f'O mdc entre os dois números é {numero2}')"
   ]
  },
  {
   "cell_type": "markdown",
   "metadata": {},
   "source": [
    "6. Escreva um programa que verifique se um número inteiro positivo, fornecido pelo utilizador, é primo."
   ]
  },
  {
   "cell_type": "code",
   "execution_count": 2,
   "metadata": {},
   "outputs": [
    {
     "name": "stdout",
     "output_type": "stream",
     "text": [
      "Informe um número inteiro positivo: 7\n",
      "É primo.\n"
     ]
    }
   ],
   "source": [
    "numero = int(input('Informe um número inteiro positivo: '))\n",
    "primo = True\n",
    "for k in range(2, int(numero/2)+1):\n",
    "    if(numero % k == 0):\n",
    "        print('Não é primo.')\n",
    "        primo = False\n",
    "        break\n",
    "if primo:\n",
    "    print('É primo.')\n",
    "    "
   ]
  },
  {
   "cell_type": "markdown",
   "metadata": {},
   "source": [
    "7. Faça um programa que peça um inteiro positivo e o mostre invertido. Ex: 1234 —> 4321"
   ]
  },
  {
   "cell_type": "code",
   "execution_count": 18,
   "metadata": {},
   "outputs": [
    {
     "name": "stdout",
     "output_type": "stream",
     "text": [
      "Número: 1234\n",
      "4321\n"
     ]
    }
   ],
   "source": [
    "# usando strings\n",
    "\n",
    "numero = input('Número: ')\n",
    "numero = numero[::-1]\n",
    "print(numero)"
   ]
  },
  {
   "cell_type": "code",
   "execution_count": 19,
   "metadata": {},
   "outputs": [
    {
     "name": "stdout",
     "output_type": "stream",
     "text": [
      "Número: 1234\n",
      "4321\n"
     ]
    }
   ],
   "source": [
    "# usando a lógica decimal\n",
    "numero = int(input('Número: '))\n",
    "inv = 0\n",
    "while numero > 0:\n",
    "    inv = inv * 10\n",
    "    inv = inv + numero % 10\n",
    "    numero = numero // 10\n",
    "print(inv)"
   ]
  },
  {
   "cell_type": "code",
   "execution_count": null,
   "metadata": {},
   "outputs": [],
   "source": []
  }
 ],
 "metadata": {
  "kernelspec": {
   "display_name": "Python 3",
   "language": "python",
   "name": "python3"
  },
  "language_info": {
   "codemirror_mode": {
    "name": "ipython",
    "version": 3
   },
   "file_extension": ".py",
   "mimetype": "text/x-python",
   "name": "python",
   "nbconvert_exporter": "python",
   "pygments_lexer": "ipython3",
   "version": "3.8.3"
  }
 },
 "nbformat": 4,
 "nbformat_minor": 4
}
