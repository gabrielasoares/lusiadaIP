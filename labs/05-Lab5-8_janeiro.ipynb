{
 "cells": [
  {
   "cell_type": "markdown",
   "metadata": {},
   "source": [
    "# Listas, funções, arquivos e dicionários\n",
    "\n",
    "## 1. Escreva a função abaixo:"
   ]
  },
  {
   "cell_type": "code",
   "execution_count": 4,
   "metadata": {},
   "outputs": [
    {
     "name": "stdout",
     "output_type": "stream",
     "text": [
      "Passou no primeiro teste!\n"
     ]
    }
   ],
   "source": [
    "def pertence(item, lista):\n",
    "    '''(object, list) -> bool\n",
    "    Recebe uma lista de itens e um item e retorna True se o item é um elemento \n",
    "    da lista e False caso contrário.\n",
    "    '''\n",
    "    for i in lista:\n",
    "        if item == i:\n",
    "            return True\n",
    "    return False\n",
    "\n",
    "# Testes\n",
    "lista = [1, \"oi\", 3.14, 7, True]\n",
    "if pertence(\"oi\", lista):\n",
    "    print(\"Passou no primeiro teste!\")\n",
    "else:\n",
    "    print(\"Não passou no primeiro teste!\")\n"
   ]
  },
  {
   "cell_type": "markdown",
   "metadata": {},
   "source": [
    "## 2. Escreva um programa que leia uma lista de tamanho n do utilizador e imprima os itens na ordem inversa a de entrada."
   ]
  },
  {
   "cell_type": "code",
   "execution_count": 10,
   "metadata": {},
   "outputs": [
    {
     "name": "stdout",
     "output_type": "stream",
     "text": [
      "Informe o tamanho da lista: 3\n",
      "Digite o 1o elemento da lista: 1\n",
      "Digite o 2o elemento da lista: 2\n",
      "Digite o 3o elemento da lista: 3\n",
      "A lista em ordem original é: ['1', '2', '3']\n",
      "A lista em ordem inversa é: ['3', '2', '1']\n"
     ]
    }
   ],
   "source": [
    "# usando for e range\n",
    "def inverso(lista):\n",
    "    '''\n",
    "    Recebe uma lista de itens e retorna a lista na ordem inversa\n",
    "    '''\n",
    "    lista_inversa = []\n",
    "    for i in range(len(lista)-1, -1, -1):\n",
    "        lista_inversa.append(lista[i])\n",
    "    return lista_inversa\n",
    "    \n",
    "def main():\n",
    "    n = int(input(\"Informe o tamanho da lista: \"))\n",
    "    lista = []\n",
    "    for i in range(n):\n",
    "        elemento = input(f'Digite o {i + 1}o elemento da lista: ')\n",
    "        lista.append(elemento)\n",
    "    lista_inversa = inverso(lista)\n",
    "    print(f'A lista em ordem original é: {lista}')\n",
    "    print(f'A lista em ordem inversa é: {lista_inversa}')\n",
    "    \n",
    "    \n",
    "main()"
   ]
  },
  {
   "cell_type": "code",
   "execution_count": 12,
   "metadata": {},
   "outputs": [
    {
     "name": "stdout",
     "output_type": "stream",
     "text": [
      "Informe o tamanho da lista: 3\n",
      "Digite o 1o elemento da lista: 1\n",
      "Digite o 2o elemento da lista: 2\n",
      "Digite o 3o elemento da lista: 3\n",
      "A lista em ordem original é: ['1', '2', '3']\n",
      "A lista em ordem inversa é: ['3', '2', '1']\n"
     ]
    }
   ],
   "source": [
    "# usando fatiamento de listas/strings\n",
    "def inverso(lista):\n",
    "    '''\n",
    "    Recebe uma lista de itens e retorna a lista na ordem inversa\n",
    "    '''\n",
    "    return lista[::-1]\n",
    "    \n",
    "def main():\n",
    "    n = int(input(\"Informe o tamanho da lista: \"))\n",
    "    lista = []\n",
    "    for i in range(n):\n",
    "        elemento = input(f'Digite o {i + 1}o elemento da lista: ')\n",
    "        lista.append(elemento)\n",
    "    lista_inversa = inverso(lista)\n",
    "    print(f'A lista em ordem original é: {lista}')\n",
    "    print(f'A lista em ordem inversa é: {lista_inversa}')\n",
    "    \n",
    "    \n",
    "main()"
   ]
  },
  {
   "cell_type": "markdown",
   "metadata": {},
   "source": [
    "## 3. Dada uma sequência de $n > 0$ números reais, imprimi-los eliminando as repetições."
   ]
  },
  {
   "cell_type": "code",
   "execution_count": 13,
   "metadata": {},
   "outputs": [
    {
     "name": "stdout",
     "output_type": "stream",
     "text": [
      "[1, 2, 3]\n"
     ]
    }
   ],
   "source": [
    "def remove_repetidas(lista):\n",
    "    \"\"\" Retorna lista sem repetições \"\"\"\n",
    "    lista_sem_repetidas = []\n",
    "    \n",
    "    for item in lista:\n",
    "        if item not in lista_sem_repetidas:\n",
    "            lista_sem_repetidas.append(item)\n",
    "    print(lista_sem_repetidas)    \n",
    "\n",
    "lista = [1, 1, 2, 2, 3, 3]\n",
    "remove_repetidas(lista)"
   ]
  },
  {
   "cell_type": "markdown",
   "metadata": {},
   "source": [
    "## 4. Dados dois números naturais $m$ e $n$ e duas sequências ordenadas com $m$ e $n$ números inteiros, obter uma única sequência ordenada contendo todos os elementos das sequências originais sem repetição."
   ]
  },
  {
   "cell_type": "code",
   "execution_count": 42,
   "metadata": {},
   "outputs": [
    {
     "data": {
      "text/plain": [
       "[1, 2, 3, 4]"
      ]
     },
     "execution_count": 42,
     "metadata": {},
     "output_type": "execute_result"
    }
   ],
   "source": [
    "def merge_lists(list1, list2):\n",
    "    list_merged = []\n",
    "    i = 0\n",
    "    j = 0\n",
    "    for k in range(len(list1) + len(list2)):\n",
    "        if list1[i] <= list2[j]:\n",
    "            if len(list_merged) > 0:\n",
    "                if list_merged[-1] != list1[i]: # não adicionar elementos repetidos\n",
    "                    list_merged.append(list1[i])\n",
    "            else:\n",
    "                list_merged.append(list1[i])\n",
    "            if i < len(list1) - 1:\n",
    "                i = i + 1\n",
    "            else:  # último elemento da lista 1\n",
    "                if list_merged[-1] != list2[j]:\n",
    "                    list_merged = list_merged + list2[j:]\n",
    "                    break\n",
    "                else:\n",
    "                    if j < len(list2) - 1:\n",
    "                        j = j + 1\n",
    "                        list_merged = list_merged + list2[j:]\n",
    "\n",
    "        elif list2[j] < list1[i]:\n",
    "            if len(list_merged) > 0:\n",
    "                if list_merged[-1] != list2[j]: # não adicionar elementos repetidos\n",
    "                    list_merged.append(list2[j])\n",
    "            else:\n",
    "                list_merged.append(list2[j])\n",
    "            if j < len(list2) - 1:\n",
    "                j = j + 1\n",
    "            else:  # último elemento da lista 2\n",
    "                if list_merged[-1] != list1[i]:\n",
    "                    list_merged = list_merged + list1[i:]\n",
    "                    break\n",
    "                else:\n",
    "                    if i < len(list1) - 1:\n",
    "                        i = i + 1\n",
    "                        list_merged = list_merged + list1[i:]\n",
    "    return list_merged\n",
    "\n",
    "\n",
    "sequencia1 = [1, 2, 4]\n",
    "sequencia2 = [1, 3, 4]\n",
    "\n",
    "merge_lists(sequencia1, sequencia2)\n"
   ]
  },
  {
   "cell_type": "code",
   "execution_count": 57,
   "metadata": {},
   "outputs": [
    {
     "data": {
      "text/plain": [
       "[1, 2, 3, 4]"
      ]
     },
     "execution_count": 57,
     "metadata": {},
     "output_type": "execute_result"
    }
   ],
   "source": [
    "# usando funções nativas\n",
    "list(set(sorted(sequencia1 + sequencia2)))"
   ]
  },
  {
   "cell_type": "markdown",
   "metadata": {},
   "source": [
    "## 5. Dados um número inteiro $n$ e uma sequência com $n$ números reais, determinar a maior soma de um segmento da sequência (com pelo menos um elemento). Um segmento é uma subsequência de números consecutivos.\n",
    "\n",
    "Para $n == 12$ e a sequência\n",
    "\n",
    " [5 | -2 | -2 | -7 | 3 | 14 | 10 | -3 | 9 | -6 | 4 | 1] \n",
    "\n",
    "A soma do segmento de soma máxima é: 3 + 14 + 10 - 3 + 9\n",
    "\n",
    "R: mais sobre o problema https://en.wikipedia.org/wiki/Maximum_subarray_problem"
   ]
  },
  {
   "cell_type": "code",
   "execution_count": 79,
   "metadata": {},
   "outputs": [
    {
     "data": {
      "text/plain": [
       "33"
      ]
     },
     "execution_count": 79,
     "metadata": {},
     "output_type": "execute_result"
    }
   ],
   "source": [
    "def subsequencia_maxima(sequencia):\n",
    "    melhor_soma = max(sequencia)  # pior caso: todos os elementos são negativos ou temos apenas um elemento\n",
    "    soma_atual = 0\n",
    "    if melhor_soma < 0:\n",
    "        return melhor_soma\n",
    "    else:\n",
    "        for x in sequencia:\n",
    "            soma_atual = max(0, soma_atual + x) # acumula a soma um a um, e verifica se é maior que a atual\n",
    "            melhor_soma = max(melhor_soma, soma_atual) # compara a soma atual com a melhor soma\n",
    "        return melhor_soma\n",
    "\n",
    "# o max pode ser substituido por um if entre 0 e o segundo valor dos parênteses.\n",
    "\n",
    "vetor = [5, -2, -2, -7, 3, 14, 10, -3, 9, -6, 4, -1]\n",
    "subsequencia_maxima(vetor)    "
   ]
  },
  {
   "cell_type": "markdown",
   "metadata": {},
   "source": [
    "## 6. Sejam as listas:\n",
    "```Python\n",
    "names = ['João', 'Pedro', 'Diogo', 'Maria', 'Júlia', 'Tiago']\n",
    "ages = [20, 21, 18, 18, 19, 20]\n",
    "```\n",
    "\n",
    "    a) Considere que são listas complementares, ou seja, João tem 20 anos, Pedro tem 21, etc. Escreva uma função que combine estas listas em um dicionário (Pense quais valores devem ser as chaves - keys?)."
   ]
  },
  {
   "cell_type": "code",
   "execution_count": 80,
   "metadata": {},
   "outputs": [
    {
     "data": {
      "text/plain": [
       "{'João': 20, 'Pedro': 21, 'Diogo': 18, 'Maria': 18, 'Júlia': 19, 'Tiago': 20}"
      ]
     },
     "execution_count": 80,
     "metadata": {},
     "output_type": "execute_result"
    }
   ],
   "source": [
    "names = ['João', 'Pedro', 'Diogo', 'Maria', 'Júlia', 'Tiago']\n",
    "ages = [20, 21, 18, 18, 19, 20]\n",
    "\n",
    "dict_ages = {}\n",
    "for i in range(len(names)):\n",
    "    dict_ages[names[i]] = ages[i]\n",
    "\n",
    "dict_ages"
   ]
  },
  {
   "cell_type": "markdown",
   "metadata": {},
   "source": [
    "    b) Agora escreva uma função people que recebe uma idade e retorna uma lista das pessoas com aquela idade.\n",
    "    \n",
    "Ex: people(20) retornará ['João', 'Tiago']. Caso a idade não exista no dicionário, a função people deve retornar uma lista vazia."
   ]
  },
  {
   "cell_type": "code",
   "execution_count": 83,
   "metadata": {},
   "outputs": [
    {
     "data": {
      "text/plain": [
       "['João', 'Tiago']"
      ]
     },
     "execution_count": 83,
     "metadata": {},
     "output_type": "execute_result"
    }
   ],
   "source": [
    "def people(age):\n",
    "    people = []\n",
    "    dict_ages = {'João': 20, 'Pedro': 21, 'Diogo': 18, 'Maria': 18, 'Júlia': 19, 'Tiago': 20}\n",
    "    for key, value in dict_ages.items():\n",
    "        if value == age:\n",
    "            people.append(key)\n",
    "    return people\n",
    "\n",
    "people(20)"
   ]
  },
  {
   "cell_type": "code",
   "execution_count": 84,
   "metadata": {},
   "outputs": [
    {
     "data": {
      "text/plain": [
       "[]"
      ]
     },
     "execution_count": 84,
     "metadata": {},
     "output_type": "execute_result"
    }
   ],
   "source": [
    "people(22)"
   ]
  },
  {
   "cell_type": "markdown",
   "metadata": {},
   "source": [
    "## 7. Escreva um programa Python para ler o ficheiro alice.txt (utilizado na aula de ficheiros) e encontrar: <br>"
   ]
  },
  {
   "cell_type": "code",
   "execution_count": 108,
   "metadata": {},
   "outputs": [],
   "source": [
    "# abrir arquivo e passar todas as letras para minúsculas\n",
    "texto = open('../alice.txt').read().lower()\n",
    "\n",
    "# usar punctuation para substituir caracteres especiais\n",
    "from string import punctuation\n",
    "for c in punctuation:\n",
    "    texto = texto.replace(c, ' ')\n",
    "\n",
    "# substituir espaços em branco    \n",
    "# usar função split para separar palavras\n",
    "texto = texto.split()\n"
   ]
  },
  {
   "cell_type": "markdown",
   "metadata": {},
   "source": [
    "    a) a palavra mais longa<br>"
   ]
  },
  {
   "cell_type": "code",
   "execution_count": 109,
   "metadata": {},
   "outputs": [
    {
     "name": "stdout",
     "output_type": "stream",
     "text": [
      "A palavra mais longa é: unenforceability com 16 caracteres\n"
     ]
    }
   ],
   "source": [
    "# podemos usar o set para obter apenas palavras únicas\n",
    "palavras = set(texto)\n",
    "tamanho = 0\n",
    "palavra_longa = ''\n",
    "for palavra in texto:\n",
    "    if len(palavra) >= len(palavra_longa):\n",
    "        palavra_longa = palavra\n",
    "        tamanho = len(palavra)\n",
    "\n",
    "print(f'A palavra mais longa é: {palavra_longa} com {tamanho} caracteres')"
   ]
  },
  {
   "cell_type": "markdown",
   "metadata": {},
   "source": [
    "    b) a palavra menos longa <br>"
   ]
  },
  {
   "cell_type": "code",
   "execution_count": 110,
   "metadata": {},
   "outputs": [
    {
     "name": "stdout",
     "output_type": "stream",
     "text": [
      "A palavra menos longa é: a com 1 caracteres\n"
     ]
    }
   ],
   "source": [
    "palavra_curta = palavra_longa\n",
    "for palavra in texto:\n",
    "    if len(palavra) <= len(palavra_curta):\n",
    "        palavra_curta = palavra\n",
    "        tamanho = len(palavra)\n",
    "\n",
    "print(f'A palavra menos longa é: {palavra_curta} com {tamanho} caracteres')"
   ]
  },
  {
   "cell_type": "markdown",
   "metadata": {},
   "source": [
    "    c) Dado um intervalo [a, b], as palavras que acontecem entre a e b vezes. <br>"
   ]
  },
  {
   "cell_type": "code",
   "execution_count": 111,
   "metadata": {},
   "outputs": [],
   "source": [
    "# criar um dicionário com as palavras, \n",
    "# sempre que a palavra já estiver no dicionário, incrementar\n",
    "dic = {}\n",
    "for palavra in texto:\n",
    "    if palavra not in dic:\n",
    "        dic[palavra] = 1\n",
    "    else:\n",
    "        dic[palavra] += 1        \n"
   ]
  },
  {
   "cell_type": "code",
   "execution_count": 112,
   "metadata": {},
   "outputs": [
    {
     "name": "stdout",
     "output_type": "stream",
     "text": [
      "As palavras que acontecem entre 50 e 60 vezes são: ['rabbit', 'think', 'much', 'way', 'say', 'quite', 'just', 'some', 'first', 'here', 'from', 'll', 'which', 'must', 'began', 'their', 'my', 'now', 'other', 'head', 'go', 'only', 'more', 'work', 'hatter', 'mock', 'turtle', 'gryphon', 'tm']\n"
     ]
    }
   ],
   "source": [
    "a = 50\n",
    "b = 60\n",
    "\n",
    "palavras_intervalo = []\n",
    "for key, value in dic.items():\n",
    "    if value >= a and value <= b:\n",
    "        palavras_intervalo.append(key)\n",
    "        \n",
    "print(f'As palavras que acontecem entre {a} e {b} vezes são: {palavras_intervalo}')"
   ]
  },
  {
   "cell_type": "code",
   "execution_count": null,
   "metadata": {},
   "outputs": [],
   "source": []
  }
 ],
 "metadata": {
  "kernelspec": {
   "display_name": "Python 3",
   "language": "python",
   "name": "python3"
  },
  "language_info": {
   "codemirror_mode": {
    "name": "ipython",
    "version": 3
   },
   "file_extension": ".py",
   "mimetype": "text/x-python",
   "name": "python",
   "nbconvert_exporter": "python",
   "pygments_lexer": "ipython3",
   "version": "3.9.0"
  }
 },
 "nbformat": 4,
 "nbformat_minor": 4
}
