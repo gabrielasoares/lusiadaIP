{
 "cells": [
  {
   "cell_type": "markdown",
   "metadata": {},
   "source": [
    "# Resolução Laboratório 2\n",
    "\n",
    "1. Faça um programa que peça os três lados de um triângulo. O programa deverá informar se os valores podem ser um triângulo. Indique, caso os lados formem um triângulo, se o mesmo é: equilátero, isósceles ou escaleno."
   ]
  },
  {
   "cell_type": "code",
   "execution_count": 1,
   "metadata": {},
   "outputs": [
    {
     "name": "stdout",
     "output_type": "stream",
     "text": [
      "Lado a: 4\n",
      "Lado b: 5\n",
      "Lado c: 6\n",
      "É um triângulo escaleno.\n"
     ]
    }
   ],
   "source": [
    "a = int(input('Lado a: '))\n",
    "b = int(input('Lado b: '))\n",
    "c = int(input('Lado c: '))\n",
    "\n",
    "if (a > b + c) or (b > a + c) or (c > a + b):\n",
    "    print('Não respeita a desigualdade triangular.')\n",
    "    print('Não é um triângulo.')\n",
    "elif a == b == c:\n",
    "    print('É um triângulo equilátero.')\n",
    "elif a == b or b == c or a == c:\n",
    "    print('É um triângulo isósceles.')\n",
    "else:\n",
    "    print('É um triângulo escaleno.')\n",
    "    "
   ]
  },
  {
   "cell_type": "markdown",
   "metadata": {},
   "source": [
    "2. Solicite que o usuário entre com o valor de um ano e determine se o ano é bissexto."
   ]
  },
  {
   "cell_type": "code",
   "execution_count": 2,
   "metadata": {},
   "outputs": [
    {
     "name": "stdout",
     "output_type": "stream",
     "text": [
      "Ano: 2000\n",
      "É um ano bissexto\n"
     ]
    }
   ],
   "source": [
    "ano = int(input('Ano: '))\n",
    "if (ano % 4 == 0) and (ano % 100 != 0 or ano % 400 == 0):\n",
    "    print('É um ano bissexto')\n",
    "else:\n",
    "    print('Não é bissexto')"
   ]
  },
  {
   "cell_type": "markdown",
   "metadata": {},
   "source": [
    "3. Faça um programa que leia três números e mostre o maior deles."
   ]
  },
  {
   "cell_type": "code",
   "execution_count": 3,
   "metadata": {},
   "outputs": [
    {
     "name": "stdout",
     "output_type": "stream",
     "text": [
      "Número 1: 4\n",
      "Número 2: 5\n",
      "Número 3: 6\n",
      "O maior número é: 6\n"
     ]
    }
   ],
   "source": [
    "numero1 = int(input('Número 1: '))\n",
    "numero2 = int(input('Número 2: '))\n",
    "numero3 = int(input('Número 3: '))\n",
    "\n",
    "if numero1 >= numero2 and numero1 >= numero3:\n",
    "    print(f'O maior número é: {numero1}')\n",
    "elif numero2 >= numero3:\n",
    "    print(f'O maior número é: {numero2}')\n",
    "else:\n",
    "    print(f'O maior número é: {numero3}')\n"
   ]
  },
  {
   "cell_type": "markdown",
   "metadata": {},
   "source": [
    "4. Faça um programa que leia três números e mostre o maior e o menor deles."
   ]
  },
  {
   "cell_type": "code",
   "execution_count": 4,
   "metadata": {},
   "outputs": [
    {
     "name": "stdout",
     "output_type": "stream",
     "text": [
      "Número 1: 4\n",
      "Número 2: 5\n",
      "Número 3: 6\n",
      "O maior número é: 6\n",
      "O menor número é: 4\n"
     ]
    }
   ],
   "source": [
    "numero1 = int(input('Número 1: '))\n",
    "numero2 = int(input('Número 2: '))\n",
    "numero3 = int(input('Número 3: '))\n",
    "\n",
    "if numero1 >= numero2 and numero1 >= numero3:\n",
    "    print(f'O maior número é: {numero1}')\n",
    "elif numero2 >= numero3:\n",
    "    print(f'O maior número é: {numero2}')\n",
    "else:\n",
    "    print(f'O maior número é: {numero3}')\n",
    "\n",
    "if numero1 <= numero2 and numero1 <= numero3:\n",
    "    print(f'O menor número é: {numero1}')\n",
    "elif numero2 <= numero3:\n",
    "    print(f'O menor número é: {numero2}')\n",
    "else:\n",
    "    print(f'O menor número é: {numero3}')\n",
    "    "
   ]
  },
  {
   "cell_type": "markdown",
   "metadata": {},
   "source": [
    "5. Faça um programa para uma loja de tintas. O programa deverá pedir o tamanho em metros quadrados da área a ser pintada. Considere que a cobertura de tinta é de 1 litro para cada 3 metros quadrados e que a tinta é vendida em latas de 18 litros, que custam \\$20. Informe ao usuário a quantidade de latas de tinta a serem compradas e o preço total. Obs: somente são vendidas latas inteiras."
   ]
  },
  {
   "cell_type": "code",
   "execution_count": 5,
   "metadata": {},
   "outputs": [
    {
     "name": "stdout",
     "output_type": "stream",
     "text": [
      "Informe a área em metros quadrados: 30\n",
      "Você precisará de 1 latas.\n",
      "Preço total: $ 20.00\n"
     ]
    }
   ],
   "source": [
    "metros = int(input('Informe a área em metros quadrados: '))\n",
    "\n",
    "if metros % (3 * 18) == 0:\n",
    "    latas = metros/(3 * 18)\n",
    "else:\n",
    "    latas = int(metros/(3 * 18)) + 1\n",
    "\n",
    "preco = latas * 20\n",
    "print(f'Você precisará de {latas} latas.')\n",
    "print(f'Preço total: ${preco: .2f}')"
   ]
  },
  {
   "cell_type": "markdown",
   "metadata": {},
   "source": [
    "6. Faça um programa que peça dois números, $x$ e $n$ e calcule $x^{n}$. Informe o resultado e o número de dígitos do resultado."
   ]
  },
  {
   "cell_type": "code",
   "execution_count": null,
   "metadata": {},
   "outputs": [
    {
     "name": "stdout",
     "output_type": "stream",
     "text": [
      "Informe a base: 2\n"
     ]
    }
   ],
   "source": [
    "x = int(input('Informe a base: '))\n",
    "n = int(input('Informe o expoente: '))\n",
    "resultado = x**n\n",
    "print(f'{x}^{n} = {resultado}')\n",
    "print(f'Dígitos: {len(str(resultado))}')"
   ]
  },
  {
   "cell_type": "code",
   "execution_count": null,
   "metadata": {},
   "outputs": [],
   "source": []
  }
 ],
 "metadata": {
  "kernelspec": {
   "display_name": "Python 3",
   "language": "python",
   "name": "python3"
  },
  "language_info": {
   "codemirror_mode": {
    "name": "ipython",
    "version": 3
   },
   "file_extension": ".py",
   "mimetype": "text/x-python",
   "name": "python",
   "nbconvert_exporter": "python",
   "pygments_lexer": "ipython3",
   "version": "3.8.3"
  }
 },
 "nbformat": 4,
 "nbformat_minor": 4
}
