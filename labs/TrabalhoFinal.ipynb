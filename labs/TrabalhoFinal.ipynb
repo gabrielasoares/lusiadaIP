{
 "cells": [
  {
   "cell_type": "markdown",
   "metadata": {},
   "source": [
    "# Jogo da Forca\n",
    "\n",
    "Neste trabalho, iremos implementar o [Jogo da Forca]\n",
    "Dicas: \n",
    "1. Tente implementar por partes, e entregue o trabalho mesmo que esteja incompleto. Os itens 1, 2, 3, 4 e 7 tem peso 1 cada. Os itens 5 e 6 tem peso 2.5 cada.\n",
    "2. Vocês podem discutir e desenvolver em duplas, mas a entrega é individual e o código não deve ser idêntico. \n",
    "3. Reaproveite códigos e funções dos laboratórios anteriores.\n",
    "4. Divirta-se!\n",
    "\n",
    "O seu programa deverá inicializar e apresentar um menu para o jogador. O menu deverá conter as seguintes opções:<br>\n",
    "1. Cadastrar Jogador <br>\n",
    "2. Cadastrar Palavra <br>\n",
    "3. Exibir 'Records' <br>\n",
    "4. Exibir pontuação de um determinado Jogador<br>\n",
    "5. Jogar <br>\n",
    "6. Desafiar o Robô<br>\n",
    "7. Sair<br>\n",
    "\n",
    "## 1. Cadastrar Jogador\n",
    "Uma função em que o utilizador poderá cadastrar um jogador através de um nome único. Salve os jogadores cadastrados em um arquivo texto, sem permitir que dois jogadores tenham o mesmo nome único.\n",
    "\n",
    "## 2. Cadastrar Palavra\n",
    "Uma função em que o utilizador poderá cadastrar palavras únicas. Salve as palavras em um arquivo texto. Quantas mais palavras o seu jogo apresentar, mais divertido será!\n",
    "\n",
    "## 3. Exibir 'Records'\n",
    "Nesta opção, o programa deverá exibir os jogadores com maiores pontuação.\n",
    "\n",
    "## 4. Exibir pontuação de um determinado Jogador.\n",
    "Nesta opção, o usuário digita o nome de um Jogador e o programa exibe quantos pontos o jogador tem.\n",
    "\n",
    "## 5. Jogar\n",
    "Nesta opção, o programa deverá sortear uma palavra aleatoriamente no arquivo de palavras cadastradas e:\n",
    "- Exibir o número de caracteres com _ no lugar das letras.\n",
    "- Permitir que o jogador insira letras candidatas.\n",
    "- Verificar se a letra inserida está na palavra, se estiver, exibir as posições destas letras. \n",
    "- Armazenar e exibir um histórico de letras já inseridas.\n",
    "- Armazenar um contador que indique quantas tentativas o Jogador ainda tem (assuma que o valor máximo de erros é 6, ou seja, no 7o o Jogador perde).\n",
    "- Continuar até que um dos critérios de parada seja atingido: palavra correta ou máximo de erros.\n",
    "- Armazenar pontuação do utilizador no arquivo das pontuações:\n",
    "    - Em caso de derrota, o utilizador recebe a pontuação -50.\n",
    "    - Em caso de vitória, o utilizador deverá obter 10 pontos por cada tentativa que ainda resta, ou seja, caso o utilizador tenha errado duas letras, ele terá direito a (6 - 2) * 10 pontos.\n",
    "    - Cuidado para não sobrescrever os resultados já existentes\n",
    "  \n",
    "\n",
    "## 6. Desafiar o Robô\n",
    "Nesta opção, o seu programa 'Robô' deverá tentar advinhar uma palavra escolhida por você. \n",
    "\n",
    "## 7. Sair\n",
    "Ao inserir o número deste menu, o jogo deverá ser encerrado."
   ]
  },
  {
   "cell_type": "code",
   "execution_count": null,
   "metadata": {},
   "outputs": [],
   "source": []
  }
 ],
 "metadata": {
  "kernelspec": {
   "display_name": "Python 3",
   "language": "python",
   "name": "python3"
  },
  "language_info": {
   "codemirror_mode": {
    "name": "ipython",
    "version": 3
   },
   "file_extension": ".py",
   "mimetype": "text/x-python",
   "name": "python",
   "nbconvert_exporter": "python",
   "pygments_lexer": "ipython3",
   "version": "3.9.0"
  }
 },
 "nbformat": 4,
 "nbformat_minor": 4
}
