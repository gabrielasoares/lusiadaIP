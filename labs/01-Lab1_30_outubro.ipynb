{
 "cells": [
  {
   "cell_type": "markdown",
   "metadata": {},
   "source": [
    "# Lab1 - 30 de Outubro\n",
    "\n",
    "1. Faça um programa que peça dois números inteiros e imprima a soma desses dois números.\n"
   ]
  },
  {
   "cell_type": "code",
   "execution_count": 1,
   "metadata": {},
   "outputs": [
    {
     "name": "stdout",
     "output_type": "stream",
     "text": [
      "Este programa calcula a soma de dois números.\n",
      "1o número: 1\n",
      "2o número: 1\n",
      "2\n"
     ]
    }
   ],
   "source": [
    "numero1 = int(input('1o número: '))\n",
    "numero2 = int(input('2o número: '))\n",
    "print (numero1 + numero2)"
   ]
  },
  {
   "cell_type": "markdown",
   "metadata": {},
   "source": [
    "2. Escreva um programa que leia o valor em metros e o exiba convertido em milímetros.\n"
   ]
  },
  {
   "cell_type": "code",
   "execution_count": 2,
   "metadata": {},
   "outputs": [
    {
     "name": "stdout",
     "output_type": "stream",
     "text": [
      "Digite o valor em metros a ser convertido: 30\n",
      "Milímetros: 30000\n"
     ]
    }
   ],
   "source": [
    "m = int(input('Digite o valor em metros a ser convertido: '))\n",
    "print (f'Milímetros: {m*1000}')"
   ]
  },
  {
   "cell_type": "markdown",
   "metadata": {},
   "source": [
    "3. Faça um programa que calcule o aumento de um salário. Ele deve solicitar o valor do salário e a percentagem do aumento. Exiba o valor do aumento e do novo salário."
   ]
  },
  {
   "cell_type": "code",
   "execution_count": 3,
   "metadata": {},
   "outputs": [
    {
     "name": "stdout",
     "output_type": "stream",
     "text": [
      "Salário: 100\n",
      "Aumento%: 10\n",
      "Aumento: R$ 10.00\n",
      "Novo salário: R$ 110.00\n"
     ]
    }
   ],
   "source": [
    "salario = float(input('Salário: '))\n",
    "taxa_aumento = float(input('Aumento%: '))\n",
    "aumento = salario * taxa_aumento / 100\n",
    "novo = salario + aumento\n",
    "print(f'Aumento: R$ {aumento:.2f}')\n",
    "print(f'Novo salário: R$ {novo:.2f}')"
   ]
  },
  {
   "cell_type": "markdown",
   "metadata": {},
   "source": [
    "4. Solicite o preço de uma mercadoria e o percetual de desconto. Exiba o valor do desconto e o preço a pagar.\n"
   ]
  },
  {
   "cell_type": "code",
   "execution_count": 4,
   "metadata": {},
   "outputs": [
    {
     "name": "stdout",
     "output_type": "stream",
     "text": [
      "Preço: 100\n",
      "Desconto%: 10\n",
      "Desconto: R$ 10.00\n",
      "Preço a pagar: 90.00\n"
     ]
    }
   ],
   "source": [
    "preco = float(input('Preço: '))\n",
    "taxa_desconto = float(input('Desconto%: '))\n",
    "desconto = preco * taxa_desconto / 100\n",
    "novo = preco - desconto\n",
    "print(f'Desconto: R$ {desconto:.2f}')\n",
    "print(f'Preço a pagar: {novo:.2f}')"
   ]
  },
  {
   "cell_type": "markdown",
   "metadata": {},
   "source": [
    "5. Calcule o tempo de uma viagem de carro. Pergunte a distância a percorrer e a velocidade média esperada para a viagem."
   ]
  },
  {
   "cell_type": "code",
   "execution_count": 5,
   "metadata": {},
   "outputs": [
    {
     "name": "stdout",
     "output_type": "stream",
     "text": [
      "Distância km: 500\n",
      "Vel. média km/h: 100\n",
      "Tempo: 5.0\n"
     ]
    }
   ],
   "source": [
    "distancia = float(input('Distância km: '))\n",
    "velocidade = float(input('Vel. média km/h: '))\n",
    "tempo = distancia / velocidade\n",
    "print (f'Tempo: {tempo:.1f} horas')"
   ]
  },
  {
   "cell_type": "markdown",
   "metadata": {},
   "source": [
    "6. Converta uma temperatura digitada em Celsius para Fahrenheit.\n"
   ]
  },
  {
   "cell_type": "code",
   "execution_count": 6,
   "metadata": {},
   "outputs": [
    {
     "name": "stdout",
     "output_type": "stream",
     "text": [
      "Celsius: 30\n",
      "86.00 Fahrenheit\n"
     ]
    }
   ],
   "source": [
    "c = float(input('Celsius: '))\n",
    "f = 9*c/5 + 32\n",
    "print (f'{f:.2f} Fahrenheit')"
   ]
  },
  {
   "cell_type": "markdown",
   "metadata": {},
   "source": [
    "7. Faça agora o contrário, de Fahrenheit para Celsius.\n"
   ]
  },
  {
   "cell_type": "code",
   "execution_count": 7,
   "metadata": {},
   "outputs": [
    {
     "name": "stdout",
     "output_type": "stream",
     "text": [
      "Fahrenheit: 100\n",
      "37.78 Celsius\n"
     ]
    }
   ],
   "source": [
    "f = float(input('Fahrenheit: '))\n",
    "c = (f - 32) * 5 / 9\n",
    "print (f'{c:.2f} Celsius')"
   ]
  },
  {
   "cell_type": "markdown",
   "metadata": {},
   "source": [
    "8. Escreva um programa que pergunte a quantidade de km percorridos por um carro alugado pelo usuário, assim como a quantidade de dias pelos quais o carro foi alugado. Calcule o preço a pagar, sabendo que o carro custa 20 dinheiros por dia e 0.50 cêntimos por km rodado.\n"
   ]
  },
  {
   "cell_type": "code",
   "execution_count": 8,
   "metadata": {},
   "outputs": [
    {
     "name": "stdout",
     "output_type": "stream",
     "text": [
      "Km rodados: 500\n",
      "Dias: 3\n",
      "$ 310.00\n"
     ]
    }
   ],
   "source": [
    "km = float(input('Km rodados: '))\n",
    "dias = int(input('Dias: '))\n",
    "preço = 20*dias + 0.50*km\n",
    "print (f'$ {preço:.2f}')"
   ]
  },
  {
   "cell_type": "markdown",
   "metadata": {},
   "source": [
    "9. Escreva um programa para calcular a redução do tempo de vida de um fumador. Pergunte a quantidade de cigarros fumados por dia e quantos anos ele já fumou. Considere que um fumador perde 10 minutos de vida a cada cigarro, calcule quantos dias de vida um fumador perderá. Exiba o total de dias."
   ]
  },
  {
   "cell_type": "code",
   "execution_count": 9,
   "metadata": {},
   "outputs": [
    {
     "name": "stdout",
     "output_type": "stream",
     "text": [
      "Cigarros dia: 20\n",
      "Anos fumados: 3\n",
      "Você perdeu 152.1 dias\n"
     ]
    }
   ],
   "source": [
    "cigarros = int(input('Cigarros dia: '))\n",
    "anos = int(input('Anos fumados: '))\n",
    "total_cigarros = anos * 365 * cigarros\n",
    "dias = total_cigarros / 144\n",
    "print (f'Você perdeu {dias:.1f} dias')"
   ]
  }
 ],
 "metadata": {
  "kernelspec": {
   "display_name": "Python 3",
   "language": "python",
   "name": "python3"
  },
  "language_info": {
   "codemirror_mode": {
    "name": "ipython",
    "version": 3
   },
   "file_extension": ".py",
   "mimetype": "text/x-python",
   "name": "python",
   "nbconvert_exporter": "python",
   "pygments_lexer": "ipython3",
   "version": "3.9.0"
  }
 },
 "nbformat": 4,
 "nbformat_minor": 4
}
