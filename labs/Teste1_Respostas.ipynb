{
 "cells": [
  {
   "cell_type": "markdown",
   "metadata": {},
   "source": [
    "# Teste 1\n",
    "\n",
    "### 1. Defina e explique as diferenças entre Linguagem de Alto Nível e Linguagem de Baixo Nível\n",
    "> **Resposta:** \n",
    "As linguagens de baixo nível são linguagens mais próximas da linguagem de máquina (binária). Já as linguagens de alto nível são mais próximas da linguagem natural (especialmente do inglês). \n",
    "O Python é uma linguagem de alto nível, e o seu interpretador transforma o código fonte em linguagem de máquina."
   ]
  },
  {
   "cell_type": "markdown",
   "metadata": {},
   "source": [
    "### 2. Das variáveis abaixo, indique se o nome é válido e se é uma boa prática de programação.\n",
    "\n",
    "**a) Variável = 5**\n",
    "\n",
    "> **Resposta:** O nome é válido. No entanto, como boa prática de programação reservamos as letras maiúsculas para as classes. Também evitamos caracteres especiais, como acentos. Por fim, não temos contexto do programa, mas devemos sempre escolher nomes significativos. \n",
    "\n",
    "**b) 12345 = 1**\n",
    "\n",
    "> **Resposta:** A variável é inválida. Não é possível que uma variável comece por um número. Se fosse v12345 seria uma variável válida.\n",
    "\n",
    "**c) Preço = 5.0**\n",
    "\n",
    "> **Resposta:** É exatamente a mesma situação da letra a). A única diferença é que o nome é mais significativo que 'Variável'\n",
    "\n",
    "**d) _variável =** \n",
    "\n",
    "> **Resposta:** É uma variável válida. Assim como nas letras a) e c) nós evitamos o uso de caracteres especiais. Além disso, não tem nenhum valor atribuído após o =, o que gera um erro de sintaxe.\n",
    "\n",
    "Nas células abaixo, deixo o resultado da execução de cada uma das declarações acima."
   ]
  },
  {
   "cell_type": "code",
   "execution_count": 1,
   "metadata": {},
   "outputs": [
    {
     "name": "stdout",
     "output_type": "stream",
     "text": [
      "5\n"
     ]
    }
   ],
   "source": [
    "Variável = 5\n",
    "print(Variável)"
   ]
  },
  {
   "cell_type": "code",
   "execution_count": 2,
   "metadata": {},
   "outputs": [
    {
     "ename": "SyntaxError",
     "evalue": "cannot assign to literal (<ipython-input-2-5f8e2a1223ee>, line 1)",
     "output_type": "error",
     "traceback": [
      "\u001b[0;36m  File \u001b[0;32m\"<ipython-input-2-5f8e2a1223ee>\"\u001b[0;36m, line \u001b[0;32m1\u001b[0m\n\u001b[0;31m    12345 = 1\u001b[0m\n\u001b[0m    ^\u001b[0m\n\u001b[0;31mSyntaxError\u001b[0m\u001b[0;31m:\u001b[0m cannot assign to literal\n"
     ]
    }
   ],
   "source": [
    "12345 = 1"
   ]
  },
  {
   "cell_type": "code",
   "execution_count": 1,
   "metadata": {},
   "outputs": [
    {
     "name": "stdout",
     "output_type": "stream",
     "text": [
      "5.0\n"
     ]
    }
   ],
   "source": [
    "Preço = 5.0\n",
    "print(Preço)"
   ]
  },
  {
   "cell_type": "code",
   "execution_count": 2,
   "metadata": {},
   "outputs": [
    {
     "ename": "SyntaxError",
     "evalue": "invalid syntax (<ipython-input-2-1487dcbb7eea>, line 1)",
     "output_type": "error",
     "traceback": [
      "\u001b[1;36m  File \u001b[1;32m\"<ipython-input-2-1487dcbb7eea>\"\u001b[1;36m, line \u001b[1;32m1\u001b[0m\n\u001b[1;33m    _variável =\u001b[0m\n\u001b[1;37m                ^\u001b[0m\n\u001b[1;31mSyntaxError\u001b[0m\u001b[1;31m:\u001b[0m invalid syntax\n"
     ]
    }
   ],
   "source": [
    "_variável = "
   ]
  },
  {
   "cell_type": "markdown",
   "metadata": {},
   "source": [
    "### 3. Para cada programa indique qual é a saída esperada.\n",
    "\n",
    "**a)**\n",
    "```Python \n",
    "print(3 == 3.0)\n",
    "```\n",
    "\n",
    "> **Resposta:** True \n",
    "\n",
    ">Embora 3 é do tipo int e 3.0 é do tipo float, são dois números com o mesmo valor."
   ]
  },
  {
   "cell_type": "code",
   "execution_count": 3,
   "metadata": {},
   "outputs": [
    {
     "name": "stdout",
     "output_type": "stream",
     "text": [
      "True\n"
     ]
    }
   ],
   "source": [
    "print(3 == 3.0)"
   ]
  },
  {
   "cell_type": "markdown",
   "metadata": {},
   "source": [
    "**b)**\n",
    "```Python \n",
    "print(3 == '3')\n",
    "```\n",
    "\n",
    "> **Resposta:** False\n",
    "\n",
    "> 3 é inteiro, e '3' é string. Os seus valores não são equivalentes por não serem ambos numéricos. "
   ]
  },
  {
   "cell_type": "code",
   "execution_count": 4,
   "metadata": {},
   "outputs": [
    {
     "name": "stdout",
     "output_type": "stream",
     "text": [
      "False\n"
     ]
    }
   ],
   "source": [
    "print(3 == '3')"
   ]
  },
  {
   "cell_type": "markdown",
   "metadata": {},
   "source": [
    "**c)** \n",
    "```Python \n",
    "print(type('Py'))\n",
    "```\n",
    "> **Resposta:** String, <class 'str'>\n",
    "\n",
    "> a função type retorna o tipo da variável e o valor entre ' ' é uma String"
   ]
  },
  {
   "cell_type": "code",
   "execution_count": 4,
   "metadata": {},
   "outputs": [
    {
     "name": "stdout",
     "output_type": "stream",
     "text": [
      "<class 'str'>\n"
     ]
    }
   ],
   "source": [
    "print(type('Py'))"
   ]
  },
  {
   "cell_type": "markdown",
   "metadata": {},
   "source": [
    "**d)**\n",
    "```Python \n",
    "print(True and (False or not True))\n",
    "```\n",
    "> **Resposta:** False\n",
    "\n",
    "> Primeiro, a expressão dentro dos parênteses é resolvida (False or not True) = (False or False) = False. Então, a expressão torna-se True and False = False"
   ]
  },
  {
   "cell_type": "code",
   "execution_count": 5,
   "metadata": {},
   "outputs": [
    {
     "name": "stdout",
     "output_type": "stream",
     "text": [
      "False\n"
     ]
    }
   ],
   "source": [
    "print(True and (False or not True))"
   ]
  },
  {
   "cell_type": "markdown",
   "metadata": {},
   "source": [
    "**e)**\n",
    "```Python \n",
    "a = '0123456789'\n",
    "print(a[0], a[3], a[-1])\n",
    "print(a[0:3], a[3:6], a[6:9])\n",
    "print(a[:9:2])\n",
    "```\n",
    "\n",
    "\n",
    "> **Resposta:**\n",
    "\n",
    "> ```print(a[0], a[3], a[-1])```, este comando imprime o primeiro, o 4o e o último termo da String.\n",
    "\n",
    "> 0 3 9 \n",
    "\n",
    "> ```print(a[0:3], a[3:6], a[6:9])```, quando usamos : em Strings, o primeiro índice é considerado inclusive, e o segundo não. Assim, a[0:3] imprime do elemento zero até o elemento 2; a[3:6] imprime do terceiro elemento até o 5o elemento; finalmente, a[6:9] imprime do sexto elemento até o oitavo.\n",
    "\n",
    "> 012 345 678 \n",
    "\n",
    "> ```print(a[:9:2])```, este comando imprime do elemento 0, até o oitavo, com passo de dois.\n",
    "\n",
    "> 02468\n"
   ]
  },
  {
   "cell_type": "code",
   "execution_count": 6,
   "metadata": {},
   "outputs": [
    {
     "name": "stdout",
     "output_type": "stream",
     "text": [
      "0 3 9\n",
      "012 345 678\n",
      "02468\n"
     ]
    }
   ],
   "source": [
    "a = '0123456789'\n",
    "print(a[0], a[3], a[-1])\n",
    "print(a[0:3], a[3:6], a[6:9])\n",
    "print(a[:9:2])"
   ]
  },
  {
   "cell_type": "markdown",
   "metadata": {},
   "source": [
    "### 4. Considere o programa abaixo. Informe os valores para a variável 'a' para obter a saída desejada. Caso não seja possível, estreva 'N/A'.\n",
    "\n",
    "```Python\n",
    "a = int(input(\"Digite o valor de a: \"))\n",
    "if a > 10 and a % 6 == 3:\n",
    "    print('A', ' ')\n",
    "elif a > 10 and a < 20:\n",
    "    print('B', ' ')\n",
    "else: \n",
    "    print('C', ' ')\n",
    "\n",
    "```\n",
    "\n",
    "| Valores de a  |  Saída  | Justificativa |\n",
    "| ------------------- | ------------------- | ------------------- |\n",
    "|  N/A |  A B |Como se trata de uma estrutura if, elif e else o programa entra apenas em uma das instruções print. |\n",
    "|  15, 21, 27, 33, 39, ...|  A| Para imprimir 'A', o valor de a precisa ser maior que 10 e o resto da divisão por 6 ser 3. \n",
    "|  11, 12, 13, 14, 16, 17, 18 e 19 |  B| Para imprimir 'B', o valor de a precisa ser maior entre 10 e 20, exceto os ```a % 6 = 3```.\n",
    "|..., -10, ..., -1, 0, 1, ..., 9, 20, 22, 23, 24, 25, ...   |  C| Todos os valores menores que 10 (inclusive os negativos) e os acima de 20 onde ```a % 6 != 3```\n",
    "\n",
    "**PS:** Na prova faltava um parênteses. Então também aceitarei pessoas que usarem essa justificativa para afirmar que o programa retornaria uma mensagem de erro."
   ]
  },
  {
   "cell_type": "code",
   "execution_count": 7,
   "metadata": {},
   "outputs": [
    {
     "name": "stdout",
     "output_type": "stream",
     "text": [
      "Digite o valor de a: 24\n",
      "C  \n"
     ]
    }
   ],
   "source": [
    "a = int(input(\"Digite o valor de a: \"))\n",
    "if a > 10 and a % 6 == 3:\n",
    "    print('A', ' ')\n",
    "elif a > 10 and a < 20:\n",
    "    print('B', ' ')\n",
    "else: \n",
    "    print('C', ' ')"
   ]
  },
  {
   "cell_type": "markdown",
   "metadata": {},
   "source": [
    "### 5. Considere o programa abaixo, indique se o programa está correto com relação à sintaxe e indique o erro quando for o caso.\n",
    "\n",
    "****\n",
    "```Python\n",
    "nome = input('Digite o seu nome: ')\n",
    "    print('Olá ', nome)\n",
    "\n",
    "```\n",
    "\n",
    "> **Resposta:** o print da segunda linha está a frente, gerando uma mensagem de erro de identação.\n",
    "\n",
    "****"
   ]
  },
  {
   "cell_type": "code",
   "execution_count": 8,
   "metadata": {},
   "outputs": [
    {
     "ename": "IndentationError",
     "evalue": "unexpected indent (<ipython-input-8-84e335929096>, line 2)",
     "output_type": "error",
     "traceback": [
      "\u001b[0;36m  File \u001b[0;32m\"<ipython-input-8-84e335929096>\"\u001b[0;36m, line \u001b[0;32m2\u001b[0m\n\u001b[0;31m    print('Olá ', nome)\u001b[0m\n\u001b[0m    ^\u001b[0m\n\u001b[0;31mIndentationError\u001b[0m\u001b[0;31m:\u001b[0m unexpected indent\n"
     ]
    }
   ],
   "source": [
    "nome = input('Digite o seu nome: ')\n",
    "    print('Olá ', nome)"
   ]
  },
  {
   "cell_type": "markdown",
   "metadata": {},
   "source": [
    "****\n",
    "```Python\n",
    "    nome = input('Digite o seu nome: ')\n",
    "print('Olá ', nome)\n",
    "\n",
    "```\n",
    "\n",
    "> **Resposta:** a linha de leitura do valor ```nome``` também está com uma tabulação para frente. Embora não gere erro, sintaticamente está incorreto. Em caso de alguma instrução anterior, teríamos mensagem de erro de sintaxe.\n",
    "****"
   ]
  },
  {
   "cell_type": "code",
   "execution_count": 9,
   "metadata": {},
   "outputs": [
    {
     "name": "stdout",
     "output_type": "stream",
     "text": [
      "Digite o seu nome: Gabriela\n",
      "Olá  Gabriela\n"
     ]
    }
   ],
   "source": [
    "    nome = input('Digite o seu nome: ')\n",
    "print('Olá ', nome)"
   ]
  },
  {
   "cell_type": "markdown",
   "metadata": {},
   "source": [
    "****\n",
    "```Python\n",
    "nome = input('Digite o seu nome: ')\n",
    "print('Olá ', nome)\n",
    "\n",
    "```\n",
    "\n",
    "> **Resposta:** o programa está identado corretamente.\n",
    "****"
   ]
  },
  {
   "cell_type": "code",
   "execution_count": 10,
   "metadata": {},
   "outputs": [
    {
     "name": "stdout",
     "output_type": "stream",
     "text": [
      "Digite o seu nome: Gabriela\n",
      "Olá  Gabriela\n"
     ]
    }
   ],
   "source": [
    "nome = input('Digite o seu nome: ')\n",
    "print('Olá ', nome)"
   ]
  },
  {
   "cell_type": "markdown",
   "metadata": {},
   "source": [
    "****\n",
    "```Python\n",
    "    nome = input('Digite o seu nome: ')\n",
    "    print('Olá ', nome)\n",
    "\n",
    "```\n",
    "\n",
    "> **Resposta:** o programa está identado com uma tabulação a frente em cada linha. Só esse código não gera erro de sintaxe, mas caso tivéssemos alguma instrução antes ou depois deste trecho de código, teríamos uma mensagem de erro de sintaxe.\n",
    "****"
   ]
  },
  {
   "cell_type": "code",
   "execution_count": 11,
   "metadata": {},
   "outputs": [
    {
     "name": "stdout",
     "output_type": "stream",
     "text": [
      "Digite o seu nome: Gabriela\n",
      "Olá  Gabriela\n"
     ]
    }
   ],
   "source": [
    "    nome = input('Digite o seu nome: ')\n",
    "    print('Olá ', nome)\n"
   ]
  },
  {
   "cell_type": "markdown",
   "metadata": {},
   "source": [
    "### 6. Considere o programa abaixo, indique o valor das variáveis em cada iteração e a saída final do programa.\n",
    "\n",
    "```Python\n",
    "repete = True\n",
    "a = 0\n",
    "b = 0\n",
    "while repete:\n",
    "    print('O')\n",
    "    if a + b > 24:\n",
    "        repete = False\n",
    "    a = a + 5\n",
    "    b = b + 7\n",
    "```\n",
    "\n",
    "> **Resposta:** \n",
    "\n",
    "| a  |  b  |a + b|  repete | print('O')|\n",
    "| ------------------- | ------------------- | ------------------- |------------------- |------------------- |\n",
    "|  0 |  0 | 0 | True | O |\n",
    "|  5 |  7 | 12 | True | O |\n",
    "|  10 |  14 | 24 | True | O |\n",
    "|  15 |  21 | 36 | False | O |\n",
    "|  20 |  28 | 48 | False |  |\n",
    "\n"
   ]
  },
  {
   "cell_type": "code",
   "execution_count": 12,
   "metadata": {},
   "outputs": [
    {
     "name": "stdout",
     "output_type": "stream",
     "text": [
      "O\n",
      "O\n",
      "O\n",
      "O\n"
     ]
    }
   ],
   "source": [
    "repete = True\n",
    "a = 0\n",
    "b = 0\n",
    "while repete:\n",
    "    print('O')\n",
    "    if a + b > 24:\n",
    "        repete = False\n",
    "    a = a + 5\n",
    "    b = b + 7"
   ]
  },
  {
   "attachments": {
    "image.png": {
     "image/png": "[encoded data removed]"
    }
   },
   "cell_type": "markdown",
   "metadata": {},
   "source": [
    "### 7. Na figura abaixo, a região em cinza não inclui as linhas de bordo. Note que o eixo y encontra-se bem no meio da figura, e usamos o lado do quadrado para indicar as ordenadas correspondentes.\n",
    "\n",
    "![image.png](attachment:image.png)\n",
    "\n",
    "### Escreva um programa que leia as coordenadas cartesianas $(x, y)$ de um ponto, ambas do tipo float, e imprime se o ponto digitado pertence à boca, parte branca dos olhos, parte cinza dos olhos ou se está fora destas partes."
   ]
  },
  {
   "cell_type": "code",
   "execution_count": 6,
   "metadata": {},
   "outputs": [
    {
     "name": "stdout",
     "output_type": "stream",
     "text": [
      "Digite o valor de x: 2\n",
      "Digite o valor de y: 5\n",
      "Pertence à parte branca do olho\n"
     ]
    }
   ],
   "source": [
    "x = float(input(\"Digite o valor de x: \"))\n",
    "y = float(input(\"Digite o valor de y: \"))\n",
    "if x < 0:\n",
    "    x = -x\n",
    "boca = (x >= 0 and x <= 3) and (y >= 1 and y <= 3)\n",
    "pupila = (x > 2 and x < 3) and (y > 5 and y < 6)\n",
    "olho = (x >= 1 and x <= 4) and (y >= 4 and y <=7)\n",
    "\n",
    "if boca:\n",
    "    print(\"Pertence à boca\")\n",
    "elif pupila:\n",
    "    print(\"Pertence à parte cinza do olho\")\n",
    "elif olho:\n",
    "    print(\"Pertence à parte branca do olho\")\n",
    "else:\n",
    "    print(\"Pertence ao resto\")"
   ]
  },
  {
   "cell_type": "code",
   "execution_count": 13,
   "metadata": {},
   "outputs": [
    {
     "name": "stdout",
     "output_type": "stream",
     "text": [
      "Digite o valor de x: 5\n",
      "Digite o valor de y: 5\n",
      "O ponto (5.0, 5.0) não pertence à boca ou aos olhos.\n"
     ]
    }
   ],
   "source": [
    "x = float(input(\"Digite o valor de x: \"))\n",
    "y = float(input(\"Digite o valor de y: \"))\n",
    "\n",
    "# Boca\n",
    "if x >= -3 and x <= 3 and y >= 1 and y <= 2:\n",
    "    print(f'O ponto ({x}, {y}) pertence à boca.')\n",
    "\n",
    "# Olho esquerdo, parte cinza\n",
    "elif x > -3 and x < -2 and y > 5 and y < 6:\n",
    "    print(f'O ponto ({x}, {y}) pertence à parte cinza do olho esquerdo.')\n",
    "    \n",
    "# Olho direito, parte cinza\n",
    "elif x > 2 and x < 3 and y > 5 and y < 6:\n",
    "    print(f'O ponto ({x}, {y}) pertence à parte cinza do olho direito.')\n",
    "\n",
    "# Olho esquerdo, parte branca\n",
    "elif x >= -4 and x <= 1 and y >= 4 and y <= 7:\n",
    "    print(f'O ponto ({x}, {y}) pertence à parte branca do olho esquerdo.')\n",
    "\n",
    "# Olho direito, parte branca\n",
    "elif x >= 1 and x <= 4 and y >= 4 and y <= 7:\n",
    "    print(f'O ponto ({x}, {y}) pertence à parte branca do olho direito.')\n",
    "\n",
    "else:\n",
    "    print(f'O ponto ({x}, {y}) não pertence à boca ou aos olhos.')\n",
    "\n"
   ]
  },
  {
   "cell_type": "markdown",
   "metadata": {},
   "source": [
    "### 8. Sabe-se que cada número da forma $n^{3}$ é igual a soma de $n$ ímpares consecutivos. Por exemplo,\n",
    "\n",
    "### $1^{3} = 1$\n",
    "\n",
    "### $2^{3} = 3 + 5$\n",
    "\n",
    "### $3^{3} = 7 + 9 + 11$\n",
    "\n",
    "### $4^{3} = 13 + 15 + 17 + 19$\n",
    "\n",
    "### Dado um número inteiro, $m$, $m > 0$, escreva um programa para determinar os ímpares consecutivos cuja soma é igual a $n^{3}$, para $n$ assumindo valores de $1$ a $m$.\n",
    "\n"
   ]
  },
  {
   "cell_type": "code",
   "execution_count": 16,
   "metadata": {},
   "outputs": [
    {
     "name": "stdout",
     "output_type": "stream",
     "text": [
      "Digite o valor de n, n > 0:4\n",
      "Os 4 ímpares consecutivos que somados são iguais a 4**3 são:\n",
      "19\n",
      "17\n",
      "15\n",
      "13\n"
     ]
    }
   ],
   "source": [
    "# durante o teste eu disse que não era necessário usar o m, uma solução seguindo a dica dos números primos:\n",
    "\n",
    "n = int(input(\"Digite o valor de n, n > 0:\"))\n",
    "i = 1\n",
    "while i <= n ** 3/ 2 + 1:\n",
    "    resultado = 0\n",
    "    termos = i\n",
    "    numero_fatores = 1\n",
    "\n",
    "    while numero_fatores <= n:\n",
    "        resultado = resultado + termos\n",
    "        termos = termos + 2\n",
    "        numero_fatores = numero_fatores + 1\n",
    "\n",
    "    if resultado == n ** 3:\n",
    "        print(f'Os {n} ímpares consecutivos que somados são iguais a {n}**3 são:')\n",
    "        for k in range(n):\n",
    "            print(termos - 2)\n",
    "            termos = termos - 2\n",
    "\n",
    "        break\n",
    "\n",
    "    else:\n",
    "        i = i + 2"
   ]
  },
  {
   "cell_type": "markdown",
   "metadata": {},
   "source": [
    "Uma solução completa, incluindo o m:"
   ]
  },
  {
   "cell_type": "code",
   "execution_count": 17,
   "metadata": {},
   "outputs": [
    {
     "name": "stdout",
     "output_type": "stream",
     "text": [
      "Digite o valor de m, m > 0: 5\n",
      "Os 1 ímpares consecutivos que somados são iguais a 1**3 são: 1 \n",
      "Os 2 ímpares consecutivos que somados são iguais a 2**3 são: 3 + 5 \n",
      "Os 3 ímpares consecutivos que somados são iguais a 3**3 são: 7 + 9 + 11 \n",
      "Os 4 ímpares consecutivos que somados são iguais a 4**3 são: 13 + 15 + 17 + 19 \n",
      "Os 5 ímpares consecutivos que somados são iguais a 5**3 são: 21 + 23 + 25 + 27 + 29 \n"
     ]
    }
   ],
   "source": [
    "m = int(input(\"Digite o valor de m, m > 0: \"))\n",
    "\n",
    "if (m <= 0):\n",
    "    print(\" O valor de m deve ser maior que 0.\")\n",
    "else:\n",
    "    for n in range(1, m + 1):\n",
    "        print(f'Os {n} ímpares consecutivos que somados são iguais a {n}**3 são: ', end='')\n",
    "        i = 1\n",
    "        while i <= n ** 3/ 2 + 1:\n",
    "            resultado = 0\n",
    "            termos = i\n",
    "            numero_fatores = 1\n",
    "\n",
    "            while numero_fatores <= n:\n",
    "                resultado = resultado + termos\n",
    "                termos = termos + 2\n",
    "                numero_fatores = numero_fatores + 1\n",
    "\n",
    "            if resultado == n ** 3:\n",
    "                imprimir = ''\n",
    "                k = n\n",
    "                while k >= 1:\n",
    "                    if k == n: # primeiro termo\n",
    "                        imprimir = imprimir + str(termos - 2*k) + ' '\n",
    "                    else:\n",
    "                        imprimir = imprimir + '+ ' + str(termos - 2*k) + ' '\n",
    "                    k = k - 1\n",
    "                print(imprimir)\n",
    "\n",
    "                break\n",
    "\n",
    "            else:\n",
    "                i = i + 2\n",
    "        "
   ]
  }
 ],
 "metadata": {
  "kernelspec": {
   "display_name": "Python 3",
   "language": "python",
   "name": "python3"
  },
  "language_info": {
   "codemirror_mode": {
    "name": "ipython",
    "version": 3
   },
   "file_extension": ".py",
   "mimetype": "text/x-python",
   "name": "python",
   "nbconvert_exporter": "python",
   "pygments_lexer": "ipython3",
   "version": "3.8.3"
  }
 },
 "nbformat": 4,
 "nbformat_minor": 4
}
