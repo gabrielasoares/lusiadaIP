{
 "cells": [
  {
   "cell_type": "markdown",
   "metadata": {},
   "source": [
    "1. Sorteie 10 inteiros entre 1 e 100, armazene-os em uma lista e descubra o maior e o menor, sem usar as funções max e min.\n",
    "2. Sorteie 20 inteiros entre 1 e 100. Crie uma lista com todos os números sorteados, outra apenas com os números pares e uma terceira apenas com os números ímpares. Imprima as três listas.\n",
    "3. Faça um programa que crie duas listas com 10 elementos aleatórios entre 1 e 100. Gere uma terceira lista intercalando as duas listas anteriores. Imprima as três listas resultantes.\n",
    "4. Seja o statement sobre diversidade:\n",
    ">\"The Python Software Foundation and the global Python community welcome and encourage participation by everyone. Our community is based on mutual respect, tolerance, and encouragement, and we are working to help each other live up to these principles. We want our community to be more varied, expressed in our diversity statement; whoever you are, and whatever your background, we welcome you.\"\n",
    "\n",
    "Gere uma lista de palavras deste texto com a função split(), a seguir crie uma lista com as palavras que começam ou terminam com umas das letras de \"python\". Imprima a lista resultante. Não se esqueça de remover antes os caracteres especiais e cuidado com maiúsculas e minúsculas.\n",
    "5. Seja o mesmo texto acima após aplicar a função split(). Calcule quantas palavras possuem uma das letras \"python\" e que tenham mais de 4 caracteres. Não se esqueça de transformar maiúsculas para minúsculas e de remover antes os caracteres especiais.\n",
    "6. Escreva uma função que permita que o usuário escolha uma das questões anteriores e veja o resultado."
   ]
  },
  {
   "cell_type": "code",
   "execution_count": null,
   "metadata": {},
   "outputs": [],
   "source": []
  }
 ],
 "metadata": {
  "kernelspec": {
   "display_name": "Python 3",
   "language": "python",
   "name": "python3"
  },
  "language_info": {
   "codemirror_mode": {
    "name": "ipython",
    "version": 3
   },
   "file_extension": ".py",
   "mimetype": "text/x-python",
   "name": "python",
   "nbconvert_exporter": "python",
   "pygments_lexer": "ipython3",
   "version": "3.9.0"
  }
 },
 "nbformat": 4,
 "nbformat_minor": 4
}
