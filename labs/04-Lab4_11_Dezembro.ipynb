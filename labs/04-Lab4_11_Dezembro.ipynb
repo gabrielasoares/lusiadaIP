{
 "cells": [
  {
   "cell_type": "markdown",
   "metadata": {},
   "source": [
    "# Laboratório 4 - Respostas"
   ]
  },
  {
   "cell_type": "markdown",
   "metadata": {},
   "source": [
    "### 1. Sorteie 10 inteiros entre 1 e 100, armazene-os em uma lista e descubra o maior e o menor, sem usar as funções max e min."
   ]
  },
  {
   "cell_type": "code",
   "execution_count": 1,
   "metadata": {},
   "outputs": [
    {
     "name": "stdout",
     "output_type": "stream",
     "text": [
      "A lista gerada foi: [91, 22, 75, 93, 10, 93, 84, 70, 5, 65]\n",
      "O menor elemento da lista é 5 e o maior elemento da lista é 93\n"
     ]
    }
   ],
   "source": [
    "import random\n",
    "\n",
    "# gerar lista com 10 inteiros aleatórios\n",
    "lista = []\n",
    "for i in range(10):\n",
    "    lista.append(random.randint(1, 100))\n",
    "\n",
    "# procurar o maior e o menor\n",
    "\n",
    "menor = lista[0]\n",
    "maior = lista[0]\n",
    "\n",
    "for i in range(1, 10):\n",
    "    if menor > lista[i]:\n",
    "        menor = lista[i]\n",
    "    if maior < lista[i]:\n",
    "        maior = lista[i]\n",
    "\n",
    "print(\"A lista gerada foi:\", lista)\n",
    "print(f'O menor elemento da lista é {menor} e o maior elemento da lista é {maior}')"
   ]
  },
  {
   "cell_type": "markdown",
   "metadata": {},
   "source": [
    "### 2. Sorteie 20 inteiros entre 1 e 100. Crie uma lista com todos os números sorteados, outra apenas com os números pares e uma terceira apenas com os números ímpares. Imprima as três listas."
   ]
  },
  {
   "cell_type": "code",
   "execution_count": 2,
   "metadata": {},
   "outputs": [
    {
     "name": "stdout",
     "output_type": "stream",
     "text": [
      "A lista com todos os números é: [48, 70, 60, 17, 41, 50, 53, 17, 82, 86, 19, 88, 18, 56, 19, 95, 92, 73, 31, 41]\n",
      "A lista com os números pares é: [48, 70, 60, 50, 82, 86, 88, 18, 56, 92]\n",
      "A lista com os números ímpares é: [17, 41, 53, 17, 19, 19, 95, 73, 31, 41]\n"
     ]
    }
   ],
   "source": [
    "import random\n",
    "all_numbers = []\n",
    "odd = []\n",
    "even = []\n",
    "\n",
    "for i in range (20):\n",
    "    number = random.randint(1, 100)\n",
    "    all_numbers.append(number)\n",
    "    if number % 2 == 0:\n",
    "        even.append(number)\n",
    "    else:\n",
    "        odd.append(number)\n",
    "\n",
    "print(\"A lista com todos os números é:\", all_numbers)\n",
    "print(\"A lista com os números pares é:\", even)\n",
    "print(\"A lista com os números ímpares é:\", odd)"
   ]
  },
  {
   "cell_type": "markdown",
   "metadata": {},
   "source": [
    "### 3. Faça um programa que crie duas listas com 10 elementos aleatórios entre 1 e 100. Gere uma terceira lista intercalando as duas listas anteriores. Imprima as três listas resultantes."
   ]
  },
  {
   "cell_type": "code",
   "execution_count": 3,
   "metadata": {},
   "outputs": [
    {
     "name": "stdout",
     "output_type": "stream",
     "text": [
      "A primeira lista é: [73, 23, 11, 40, 31, 42, 22, 25, 81, 36]\n",
      "A segunda lista é: [11, 62, 58, 38, 35, 91, 9, 75, 56, 33]\n",
      "A lista intervalada das duas listas é: [73, 11, 23, 62, 11, 58, 40, 38, 31, 35, 42, 91, 22, 9, 25, 75, 81, 56, 36, 33]\n"
     ]
    }
   ],
   "source": [
    "list_1 = []\n",
    "list_2 = []\n",
    "list_all = []\n",
    "for i in range (10):\n",
    "    list_1.append(random.randint(1, 100))\n",
    "    list_2.append(random.randint(1, 100))\n",
    "\n",
    "for i in range(10):\n",
    "    list_all.append(list_1[i])\n",
    "    list_all.append(list_2[i])\n",
    "\n",
    "print(\"A primeira lista é:\", list_1)\n",
    "print(\"A segunda lista é:\", list_2)\n",
    "print(\"A lista intervalada das duas listas é:\", list_all)\n"
   ]
  },
  {
   "cell_type": "markdown",
   "metadata": {},
   "source": [
    "### 4. Seja o statement sobre diversidade:\n",
    ">\"The Python Software Foundation and the global Python community welcome and encourage participation by everyone. Our community is based on mutual respect, tolerance, and encouragement, and we are working to help each other live up to these principles. We want our community to be more varied, expressed in our diversity statement; whoever you are, and whatever your background, we welcome you.\"\n",
    "\n",
    "Gere uma lista de palavras deste texto com a função split(), a seguir crie uma lista com as palavras que começam ou terminam com umas das letras de \"python\". Imprima a lista resultante. Não se esqueça de remover antes os caracteres especiais e cuidado com maiúsculas e minúsculas."
   ]
  },
  {
   "cell_type": "code",
   "execution_count": 4,
   "metadata": {},
   "outputs": [
    {
     "name": "stdout",
     "output_type": "stream",
     "text": [
      "Lista com todas as palavras do texto:\n",
      "['the', 'python', 'software', 'foundation', 'and', 'the', 'global', 'python', 'community', 'welcome', 'and', 'encourage', 'participation', 'by', 'everyone.', 'our', 'community', 'is', 'based', 'on', 'mutual', 'respect,', 'tolerance,', 'and', 'encouragement,', 'and', 'we', 'are', 'working', 'to', 'help', 'each', 'other', 'live', 'up', 'to', 'these', 'principles.', 'we', 'want', 'our', 'community', 'to', 'be', 'more', 'varied,', 'expressed', 'in', 'our', 'diversity', 'statement;', 'whoever', 'you', 'are,', 'and', 'whatever', 'your', 'background,', 'we', 'welcome', 'you.']\n",
      "\n",
      "Lista com palavras que comecem ou terminam com uma das letras de python:\n",
      "['the', 'python', 'foundation', 'the', 'python', 'community', 'participation', 'by', 'our', 'community', 'on', 'tolerance,', 'to', 'help', 'each', 'other', 'up', 'to', 'these', 'principles.', 'want', 'our', 'community', 'to', 'in', 'our', 'diversity', 'you', 'your', 'you.']\n"
     ]
    }
   ],
   "source": [
    "text = \"The Python Software Foundation and the global Python community welcome and encourage participation by everyone. Our community is based on mutual respect, tolerance, and encouragement, and we are working to help each other live up to these principles. We want our community to be more varied, expressed in our diversity statement; whoever you are, and whatever your background, we welcome you.\"\n",
    "# lower all\n",
    "text = text.lower()\n",
    "words_list = text.split()\n",
    "\n",
    "python_list = []\n",
    "for word in words_list:\n",
    "    if word[0] in 'python' or word[-1] in 'python':\n",
    "        python_list.append(word)\n",
    "\n",
    "print('Lista com todas as palavras do texto:', words_list, sep = '\\n')\n",
    "print()\n",
    "print('Lista com palavras que comecem ou terminam com uma das letras de python:', python_list, sep = '\\n')"
   ]
  },
  {
   "cell_type": "markdown",
   "metadata": {},
   "source": [
    "### 5. Seja o mesmo texto acima após aplicar a função split(). Calcule quantas palavras possuem uma das letras \"python\" e que tenham mais de 4 caracteres. Não se esqueça de transformar maiúsculas para minúsculas e de remover antes os caracteres especiais."
   ]
  },
  {
   "cell_type": "code",
   "execution_count": 5,
   "metadata": {},
   "outputs": [
    {
     "name": "stdout",
     "output_type": "stream",
     "text": [
      "Das palavras que possuem uma das letras de python, 12 palavras têm mais de 4 caracteres\n"
     ]
    }
   ],
   "source": [
    "# considerando palavras repetidas\n",
    "count = 0\n",
    "for word in python_list:\n",
    "    if len(word) > 4:\n",
    "        count = count + 1\n",
    "print(f'Das palavras que possuem uma das letras de python, {count} palavras têm mais de 4 caracteres')"
   ]
  },
  {
   "cell_type": "code",
   "execution_count": 6,
   "metadata": {},
   "outputs": [
    {
     "name": "stdout",
     "output_type": "stream",
     "text": [
      "Das palavras que possuem uma das letras de python, 9 palavras têm mais de 4 caracteres\n"
     ]
    }
   ],
   "source": [
    "# desconsiderando palavras repetidas\n",
    "count = 0\n",
    "python_list_unique = set(python_list)\n",
    "for word in python_list_unique:\n",
    "    if len(word) > 4:\n",
    "        count = count + 1\n",
    "print(f'Das palavras que possuem uma das letras de python, {count} palavras têm mais de 4 caracteres')"
   ]
  },
  {
   "cell_type": "code",
   "execution_count": 7,
   "metadata": {},
   "outputs": [
    {
     "name": "stdout",
     "output_type": "stream",
     "text": [
      "Das palavras que possuem uma das letras de python, 9 palavras têm mais de 4 caracteres\n"
     ]
    }
   ],
   "source": [
    "# usando dict\n",
    "dic_python = {}\n",
    "for word in python_list:\n",
    "    if word not in dic_python:\n",
    "        dic_python[word] = 1\n",
    "    else:\n",
    "        dic_python[word] += 1        \n",
    "\n",
    "count = 0        \n",
    "for key in dic_python:\n",
    "    if len(key) > 4:\n",
    "        count = count + 1\n",
    "print(f'Das palavras que possuem uma das letras de python, {count} palavras têm mais de 4 caracteres')"
   ]
  },
  {
   "cell_type": "markdown",
   "metadata": {},
   "source": [
    "### 6. Escreva uma função que permita que o usuário escolha uma das questões anteriores e veja o resultado."
   ]
  },
  {
   "cell_type": "code",
   "execution_count": 8,
   "metadata": {},
   "outputs": [],
   "source": [
    "# Como eu não fiz cada uma das questões como uma função, primeiro preciso transformá-las em funções.\n",
    "import random\n",
    "\n",
    "def random_list_min_max():\n",
    "    # gerar lista com 10 inteiros aleatórios\n",
    "    lista = []\n",
    "    for i in range(10):\n",
    "        lista.append(random.randint(1, 100))\n",
    "\n",
    "    # procurar o maior e o menor\n",
    "\n",
    "    menor = lista[0]\n",
    "    maior = lista[0]\n",
    "\n",
    "    for i in range(1, 10):\n",
    "        if menor > lista[i]:\n",
    "            menor = lista[i]\n",
    "        if maior < lista[i]:\n",
    "            maior = lista[i]\n",
    "\n",
    "    print(\"A lista gerada foi:\", lista)\n",
    "    print(f'O menor elemento da lista é {menor} e o maior elemento da lista é {maior}')\n",
    "\n",
    "\n",
    "def even_odd_lists():\n",
    "    all_numbers = []\n",
    "    odd = []\n",
    "    even = []\n",
    "\n",
    "    for i in range (20):\n",
    "        number = random.randint(1, 100)\n",
    "        all_numbers.append(number)\n",
    "        if number % 2 == 0:\n",
    "            even.append(number)\n",
    "        else:\n",
    "            odd.append(number)\n",
    "\n",
    "    print(\"A lista com todos os números é:\", all_numbers)\n",
    "    print(\"A lista com os números pares é:\", even)\n",
    "    print(\"A lista com os números ímpares é:\", odd)\n",
    "\n",
    "\n",
    "def intercalate_lists():\n",
    "    list_1 = []\n",
    "    list_2 = []\n",
    "    list_all = []\n",
    "    for i in range (10):\n",
    "        list_1.append(random.randint(1, 100))\n",
    "        list_2.append(random.randint(1, 100))\n",
    "\n",
    "    for i in range(10):\n",
    "        list_all.append(list_1[i])\n",
    "        list_all.append(list_2[i])\n",
    "\n",
    "    print(\"A primeira lista é:\", list_1)\n",
    "    print(\"A segunda lista é:\", list_2)\n",
    "    print(\"A lista intercalada das duas listas é:\", list_all)\n",
    "\n",
    "    \n",
    "def words_in_python_statement():\n",
    "\n",
    "    text = \"The Python Software Foundation and the global Python community welcome and encourage participation by \\\n",
    "    everyone. Our community is based on mutual respect, tolerance, and encouragement, and we are working to help \\\n",
    "    each other live up to these principles. We want our community to be more varied, expressed in our diversity \\\n",
    "    statement; whoever you are, and whatever your background, we welcome you.\"\n",
    "    # lower all\n",
    "    text = text.lower()\n",
    "    words_list = text.split()\n",
    "\n",
    "    python_list = []\n",
    "    for word in words_list:\n",
    "        if word[0] in 'python' or word[-1] in 'python':\n",
    "            python_list.append(word)\n",
    "\n",
    "    print('Lista com todas as palavras do texto:', words_list, sep = '\\n')\n",
    "    print()\n",
    "    print('Lista com palavras que comecem ou terminam com uma das letras de python:', python_list, sep = '\\n')\n",
    "    \n",
    "def len_words_python_statement():\n",
    "    # desconsiderando palavras repetidas\n",
    "    count = 0\n",
    "    python_list_unique = set(python_list)\n",
    "    for word in python_list_unique:\n",
    "        if len(word) > 4:\n",
    "            count = count + 1\n",
    "    print(f'Das palavras que possuem uma das letras de python, {count} palavras têm mais de 4 caracteres')"
   ]
  },
  {
   "cell_type": "code",
   "execution_count": 9,
   "metadata": {},
   "outputs": [],
   "source": [
    "def all_questions():\n",
    "    option = -1\n",
    "    while option != 0:\n",
    "        print(\"Escolha uma das questões para ver o resultado:\")\n",
    "        print(\"1. Para gerar uma lista aleatória com 10 elementos e encontrar o maior e o menor.\")\n",
    "        print(\"2. Para sortear 20 números inteiros e armazenális em uma lista com todos, outra com os números pares e uma terceira com os números ímpares.\")\n",
    "        print(\"3. Gerar duas listas com 10 inteiros e uma terceira com os valores intercalados delas.\")\n",
    "        print(\"4. Separar palavras do statement do Python, e armazenar palavras que começam ou terminam com uma das letras de Python.\")\n",
    "        print(\"5. Contar palavras com mais de 4 caracteres no statement do Python.\")\n",
    "        print(\"0. Sair\")\n",
    "        option = int(input('Digite a sua opção:'))\n",
    "        \n",
    "        if option == 1:\n",
    "            print(\"\\n Lista aleatória com 10 elementos e encontrar o maior e o menor. \\n\")\n",
    "            random_list_min_max()\n",
    "            print(\"\\n \\n\")\n",
    "        elif option == 2:\n",
    "            print(\"\\n Lista aleatória com 20 elementos e uma lista com os pares e outra com os ímpares. \\n\")\n",
    "            even_odd_lists()\n",
    "            print(\"\\n \\n\")\n",
    "        elif option == 3:\n",
    "            print(\"\\n Lista aleatória com 20 elementos e uma lista com os pares e outra com os ímpares. \\n\")\n",
    "            intercalate_lists()\n",
    "            print(\"\\n \\n\")\n",
    "        elif option == 4:\n",
    "            print(\"\\n Separar palavras do statement do Python. \\n\")\n",
    "            words_in_python_statement()\n",
    "            print(\"\\n \\n\")\n",
    "        elif option == 5:\n",
    "            print(\"\\n Contar palavras com mais de 4 caracteres no statement do Python. \\n\")\n",
    "            len_words_python_statement()\n",
    "            print(\"\\n \\n\")\n",
    "        elif option < 0 or option > 5:\n",
    "            print(\"Digite uma opção válida.\")\n",
    "    \n"
   ]
  },
  {
   "cell_type": "code",
   "execution_count": 10,
   "metadata": {},
   "outputs": [
    {
     "name": "stdout",
     "output_type": "stream",
     "text": [
      "Escolha uma das questões para ver o resultado:\n",
      "1. Para gerar uma lista aleatória com 10 elementos e encontrar o maior e o menor.\n",
      "2. Para sortear 20 números inteiros e armazenális em uma lista com todos, outra com os números pares e uma terceira com os números ímpares.\n",
      "3. Gerar duas listas com 10 inteiros e uma terceira com os valores intercalados delas.\n",
      "4. Separar palavras do statement do Python, e armazenar palavras que começam ou terminam com uma das letras de Python.\n",
      "5. Contar palavras com mais de 4 caracteres no statement do Python.\n",
      "0. Sair\n",
      "Digite a sua opção:1\n",
      "\n",
      " Lista aleatória com 10 elementos e encontrar o maior e o menor. \n",
      "\n",
      "A lista gerada foi: [82, 47, 73, 20, 70, 32, 54, 47, 5, 76]\n",
      "O menor elemento da lista é 5 e o maior elemento da lista é 82\n",
      "\n",
      " \n",
      "\n",
      "Escolha uma das questões para ver o resultado:\n",
      "1. Para gerar uma lista aleatória com 10 elementos e encontrar o maior e o menor.\n",
      "2. Para sortear 20 números inteiros e armazenális em uma lista com todos, outra com os números pares e uma terceira com os números ímpares.\n",
      "3. Gerar duas listas com 10 inteiros e uma terceira com os valores intercalados delas.\n",
      "4. Separar palavras do statement do Python, e armazenar palavras que começam ou terminam com uma das letras de Python.\n",
      "5. Contar palavras com mais de 4 caracteres no statement do Python.\n",
      "0. Sair\n",
      "Digite a sua opção:0\n"
     ]
    }
   ],
   "source": [
    "all_questions()"
   ]
  },
  {
   "cell_type": "code",
   "execution_count": null,
   "metadata": {},
   "outputs": [],
   "source": []
  }
 ],
 "metadata": {
  "kernelspec": {
   "display_name": "Python 3",
   "language": "python",
   "name": "python3"
  },
  "language_info": {
   "codemirror_mode": {
    "name": "ipython",
    "version": 3
   },
   "file_extension": ".py",
   "mimetype": "text/x-python",
   "name": "python",
   "nbconvert_exporter": "python",
   "pygments_lexer": "ipython3",
   "version": "3.9.0"
  }
 },
 "nbformat": 4,
 "nbformat_minor": 4
}
