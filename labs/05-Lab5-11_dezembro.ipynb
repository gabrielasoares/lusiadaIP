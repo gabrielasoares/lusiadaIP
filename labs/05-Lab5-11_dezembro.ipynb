{
 "cells": [
  {
   "cell_type": "markdown",
   "metadata": {},
   "source": [
    "# Listas, funções, arquivos e dicionários\n",
    "\n",
    "1. Escreva a função abaixo:"
   ]
  },
  {
   "cell_type": "code",
   "execution_count": null,
   "metadata": {},
   "outputs": [],
   "source": [
    "def pertence(item, lista):\n",
    "    '''(object, list) -> bool\n",
    "    Recebe uma lista de itens e um item e retorna True se o item é um elemento \n",
    "    da lista e False caso contrário.\n",
    "    '''\n",
    "    \n",
    "\n",
    "# Testes\n",
    "lista = [1, \"oi\", 3.14, 7, True]\n",
    "if pertence(\"oi\", lista):\n",
    "    print(\"Passou no primeiro teste!\")\n",
    "else:\n",
    "    print(\"Não passou no primeiro teste!\")\n"
   ]
  },
  {
   "cell_type": "markdown",
   "metadata": {},
   "source": [
    "2. Escreva um programa que leia uma lista de tamanho n do utilizador e imprima os itens na ordem inversa a de entrada."
   ]
  },
  {
   "cell_type": "code",
   "execution_count": null,
   "metadata": {},
   "outputs": [],
   "source": [
    "def inverso(lista):\n",
    "    '''\n",
    "    Recebe uma lista de itens e retorna a lista na ordem inversa\n",
    "    '''\n",
    "def main():\n",
    "    \n",
    "main()"
   ]
  },
  {
   "cell_type": "markdown",
   "metadata": {},
   "source": [
    "3. Dada uma sequência de $n > 0$ números reais, imprimi-los eliminando as repetições."
   ]
  },
  {
   "cell_type": "code",
   "execution_count": null,
   "metadata": {},
   "outputs": [],
   "source": [
    "def remove_repetidas(lista):\n",
    "    \"\"\" Retorna lista sem repetições \"\"\"\n",
    "    print(lista_sem_repetidas)    \n",
    "\n",
    "lista = [1, 1, 2, 2, 3, 3]\n",
    "remove_repetidas(lista)\n",
    "\n",
    "[1, 2, 3]"
   ]
  },
  {
   "cell_type": "markdown",
   "metadata": {},
   "source": [
    "4. Dados dois números naturais $m$ e $n$ e duas sequências ordenadas com $m$ e $n$ números inteiros, obter uma única sequência ordenada contendo todos os elementos das sequências originais sem repetição.\n",
    "\n",
    "5. Dados um número inteiro $n$ e uma sequência com $n$ números reais, determinar a maior soma de um segmento da sequência (com pelo menos um elemento). Um segmento é uma subsequência de números consecutivos.\n",
    "\n",
    "Para $n == 12$ e a sequência\n",
    "\n",
    " [5 | -2 | -2 | -7 | 3 | 14 | 10 | -3 | 9 | -6 | 4 | 1] \n",
    "\n",
    "A soma do segmento de soma máxima é: 3 + 14 + 10 - 3 + 9\n",
    "\n",
    "6. Sejam as listas:\n",
    "```Python\n",
    "names = ['João', 'Pedro', 'Diogo', 'Maria', 'Júlia', 'Tiago']\n",
    "ages = [20, 21, 18, 18, 19, 20]\n",
    "```\n",
    "\n",
    "    a) Considere que são listas complementares, ou seja, João tem 20 anos, Pedro tem 21, etc. Escreva uma função qye combine estas listas em um dicionário (Pense quais valores devem ser as chaves - keys?).\n",
    "\n",
    "    b) Agora escreva uma função people que recebe uma idade e retorna uma lista das pessoas com aquela idade.\n",
    "    \n",
    "Ex: people(20) retornará ['João', 'Tiago']. Caso a idade não exista no dicionário, a função people deve retornar uma lista vazia.\n",
    "\n",
    "7. Escreva um programa Python para ler o ficheiro alice.txt (utilizado na aula de ficheiros) e encontrar: <br>\n",
    "    a) a palavra mais longa<br>\n",
    "    b) a palavra menos longa <br>\n",
    "    c) Dado um intervalo [a, b], as palavras que acontecem entre a e b vezes. <br>"
   ]
  },
  {
   "cell_type": "code",
   "execution_count": null,
   "metadata": {},
   "outputs": [],
   "source": []
  }
 ],
 "metadata": {
  "kernelspec": {
   "display_name": "Python 3",
   "language": "python",
   "name": "python3"
  },
  "language_info": {
   "codemirror_mode": {
    "name": "ipython",
    "version": 3
   },
   "file_extension": ".py",
   "mimetype": "text/x-python",
   "name": "python",
   "nbconvert_exporter": "python",
   "pygments_lexer": "ipython3",
   "version": "3.8.3"
  }
 },
 "nbformat": 4,
 "nbformat_minor": 4
}
