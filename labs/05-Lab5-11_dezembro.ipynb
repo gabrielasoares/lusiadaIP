{
 "cells": [
  {
   "cell_type": "markdown",
   "metadata": {},
   "source": [
    "# Listas, funções, arquivos e dicionários\n",
    "\n",
    "1. Escreva a função abaixo:"
   ]
  },
  {
   "cell_type": "code",
   "execution_count": null,
   "metadata": {},
   "outputs": [],
   "source": [
    "def pertence(item, lista):\n",
    "    '''(object, list) -> bool\n",
    "    Recebe uma lista de itens e um item e retorna True se o item é um elemento \n",
    "    da lista e False caso contrário.\n",
    "    '''\n",
    "    \n",
    "\n",
    "# Testes\n",
    "lista = [1, \"oi\", 3.14, 7, True]\n",
    "if pertence(\"oi\", lista):\n",
    "    print(\"Passou no primeiro teste!\")\n",
    "else:\n",
    "    print(\"Não passou no primeiro teste!\")\n"
   ]
  },
  {
   "cell_type": "markdown",
   "metadata": {},
   "source": [
    "2. Escreva um programa que leia uma lista de tamanho n do utilizador e imprima os itens na ordem inversa a de entrada."
   ]
  },
  {
   "cell_type": "code",
   "execution_count": null,
   "metadata": {},
   "outputs": [],
   "source": [
    "def inverso(lista):\n",
    "    '''\n",
    "    Recebe uma lista de itens e retorna a lista na ordem inversa\n",
    "    '''\n",
    "def main():\n",
    "    \n",
    "main()"
   ]
  },
  {
   "cell_type": "markdown",
   "metadata": {},
   "source": [
    "3. Dada uma sequência de $n > 0$ números reais, imprimi-los eliminando as repetições.\n",
    "\n",
    "4. Dados dois números naturais $m$ e $n$ e duas sequências ordenadas com $m$ e $n$ números inteiros, obter uma única sequência ordenada contendo todos os elementos das sequências originais sem repetição.\n",
    "\n",
    "5. Dados um número inteiro $n$ e uma sequência com $n$ números reais, determinar a maior soma de um segmento da sequência (com pelo menos um elemento). Um segmento é uma subsequência de números consecutivos.\n",
    "\n",
    "Para $n == 12$ e a sequência\n",
    "\n",
    " [5 | -2 | -2 | -7 | 3 | 14 | 10 | -3 | 9 | -6 | 4 | 1] \n",
    "\n",
    "A soma do segmento de soma máxima é: 3 + 14 + 10 - 3 + 9"
   ]
  },
  {
   "cell_type": "code",
   "execution_count": null,
   "metadata": {},
   "outputs": [],
   "source": []
  }
 ],
 "metadata": {
  "kernelspec": {
   "display_name": "Python 3",
   "language": "python",
   "name": "python3"
  },
  "language_info": {
   "codemirror_mode": {
    "name": "ipython",
    "version": 3
   },
   "file_extension": ".py",
   "mimetype": "text/x-python",
   "name": "python",
   "nbconvert_exporter": "python",
   "pygments_lexer": "ipython3",
   "version": "3.8.3"
  }
 },
 "nbformat": 4,
 "nbformat_minor": 4
}
