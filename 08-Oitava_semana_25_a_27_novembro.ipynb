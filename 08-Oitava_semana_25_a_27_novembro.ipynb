{
 "cells": [
  {
   "cell_type": "markdown",
   "metadata": {},
   "source": [
    "# Funções\n",
    "\n",
    "\n",
    "* Já aprendemos algumas funções do Python\n",
    "    - print()\n",
    "    - len()\n",
    "    - input()\n",
    "    - float(), int()\n",
    "\n",
    "* Agora vamos criar as nossas próprias funções\n",
    "* Comando def para definir função e o comando return para devolver algum valor\n",
    "* Existem funções que não retornam nada"
   ]
  },
  {
   "cell_type": "code",
   "execution_count": 2,
   "metadata": {},
   "outputs": [
    {
     "name": "stdout",
     "output_type": "stream",
     "text": [
      "Digite um número: 5\n",
      "Não é par\n"
     ]
    }
   ],
   "source": [
    "number = int(input(\"Digite um número: \"))\n",
    "if number % 2 == 0:\n",
    "    print(\"É par\")\n",
    "else:\n",
    "    print(\"Não é par\")    "
   ]
  },
  {
   "cell_type": "markdown",
   "metadata": {},
   "source": [
    "* Esta função retorna verdadeiro se o parâmetro number é par\n",
    "* Obsere que diferentemente do que já vimos até agora, essas linhas não serão executadas imediatamente\n",
    "* Preciso chamar a função para executá-la"
   ]
  },
  {
   "cell_type": "code",
   "execution_count": 3,
   "metadata": {},
   "outputs": [],
   "source": [
    "def even(number):\n",
    "    return number % 2 == 0"
   ]
  },
  {
   "cell_type": "code",
   "execution_count": 6,
   "metadata": {},
   "outputs": [
    {
     "data": {
      "text/plain": [
       "False"
      ]
     },
     "execution_count": 6,
     "metadata": {},
     "output_type": "execute_result"
    }
   ],
   "source": [
    "even(5)"
   ]
  },
  {
   "cell_type": "code",
   "execution_count": 5,
   "metadata": {},
   "outputs": [
    {
     "data": {
      "text/plain": [
       "True"
      ]
     },
     "execution_count": 5,
     "metadata": {},
     "output_type": "execute_result"
    }
   ],
   "source": [
    "even(2)"
   ]
  },
  {
   "cell_type": "code",
   "execution_count": 9,
   "metadata": {},
   "outputs": [
    {
     "name": "stdout",
     "output_type": "stream",
     "text": [
      "Digite um número: 6\n",
      "É par\n"
     ]
    }
   ],
   "source": [
    "number = int(input(\"Digite um número: \"))\n",
    "if even(number):\n",
    "    print(\"É par\")"
   ]
  },
  {
   "cell_type": "code",
   "execution_count": 16,
   "metadata": {},
   "outputs": [
    {
     "name": "stdout",
     "output_type": "stream",
     "text": [
      "Digite o valor para cálculo do fatorial:3\n",
      "fat(3) = 6\n"
     ]
    }
   ],
   "source": [
    "# Defina fatorial()\n",
    "\n",
    "numero = int(input(\"Digite o valor para cálculo do fatorial:\"))\n",
    "k = 1\n",
    "fat = 1\n",
    "\n",
    "while k <= numero:\n",
    "    fat = fat * k\n",
    "    k = k + 1\n",
    "print(f'fat({numero}) = {fat}')"
   ]
  },
  {
   "cell_type": "code",
   "execution_count": 20,
   "metadata": {},
   "outputs": [],
   "source": [
    "def fatorial(n):\n",
    "    f = 1\n",
    "    k = 1\n",
    "    while k <= n:\n",
    "        f = f * k\n",
    "        k = k + 1\n",
    "    return f"
   ]
  },
  {
   "cell_type": "code",
   "execution_count": 24,
   "metadata": {},
   "outputs": [
    {
     "name": "stdout",
     "output_type": "stream",
     "text": [
      "fatorial(0) =  1\n"
     ]
    }
   ],
   "source": [
    "print(f'fatorial(0) = ', fatorial(0))"
   ]
  },
  {
   "cell_type": "code",
   "execution_count": 25,
   "metadata": {},
   "outputs": [],
   "source": [
    "def fatorial(n):\n",
    "    f = 1\n",
    "    while n > 0:\n",
    "        f = f * n\n",
    "        n = n - 1\n",
    "    return f"
   ]
  },
  {
   "cell_type": "code",
   "execution_count": 26,
   "metadata": {},
   "outputs": [
    {
     "name": "stdout",
     "output_type": "stream",
     "text": [
      "1\n",
      "1\n",
      "2\n",
      "6\n",
      "24\n"
     ]
    }
   ],
   "source": [
    "for i in range(5):\n",
    "    print(fatorial(i))"
   ]
  },
  {
   "cell_type": "markdown",
   "metadata": {},
   "source": [
    "## Variáveis locais e globais"
   ]
  },
  {
   "cell_type": "code",
   "execution_count": 27,
   "metadata": {},
   "outputs": [],
   "source": [
    "aluno = \"entrou 6h\"\n",
    "\n",
    "def iplusiada():\n",
    "    aluno = \"entrou 8h\"\n",
    "    print(aluno)"
   ]
  },
  {
   "cell_type": "code",
   "execution_count": 28,
   "metadata": {},
   "outputs": [
    {
     "name": "stdout",
     "output_type": "stream",
     "text": [
      "entrou 6h\n"
     ]
    }
   ],
   "source": [
    "print(aluno)"
   ]
  },
  {
   "cell_type": "code",
   "execution_count": 29,
   "metadata": {},
   "outputs": [
    {
     "name": "stdout",
     "output_type": "stream",
     "text": [
      "entrou 8h\n"
     ]
    }
   ],
   "source": [
    "iplusiada()"
   ]
  },
  {
   "cell_type": "code",
   "execution_count": 30,
   "metadata": {},
   "outputs": [
    {
     "name": "stdout",
     "output_type": "stream",
     "text": [
      "entrou 6h\n"
     ]
    }
   ],
   "source": [
    "print(aluno)"
   ]
  },
  {
   "cell_type": "code",
   "execution_count": 32,
   "metadata": {},
   "outputs": [],
   "source": [
    "aluno = \"entrou 6h\"\n",
    "\n",
    "def iplusiada():\n",
    "    global aluno \n",
    "    aluno = \"entrou 8h\"\n",
    "    print(aluno)"
   ]
  },
  {
   "cell_type": "code",
   "execution_count": 33,
   "metadata": {},
   "outputs": [
    {
     "name": "stdout",
     "output_type": "stream",
     "text": [
      "entrou 6h\n"
     ]
    }
   ],
   "source": [
    "print(aluno)"
   ]
  },
  {
   "cell_type": "code",
   "execution_count": 34,
   "metadata": {},
   "outputs": [
    {
     "name": "stdout",
     "output_type": "stream",
     "text": [
      "entrou 8h\n"
     ]
    }
   ],
   "source": [
    "iplusiada()"
   ]
  },
  {
   "cell_type": "code",
   "execution_count": 35,
   "metadata": {},
   "outputs": [
    {
     "name": "stdout",
     "output_type": "stream",
     "text": [
      "entrou 8h\n"
     ]
    }
   ],
   "source": [
    "print(aluno)"
   ]
  },
  {
   "cell_type": "code",
   "execution_count": null,
   "metadata": {},
   "outputs": [],
   "source": []
  }
 ],
 "metadata": {
  "kernelspec": {
   "display_name": "Python 3",
   "language": "python",
   "name": "python3"
  },
  "language_info": {
   "codemirror_mode": {
    "name": "ipython",
    "version": 3
   },
   "file_extension": ".py",
   "mimetype": "text/x-python",
   "name": "python",
   "nbconvert_exporter": "python",
   "pygments_lexer": "ipython3",
   "version": "3.8.3"
  }
 },
 "nbformat": 4,
 "nbformat_minor": 4
}
