{
 "cells": [
  {
   "cell_type": "markdown",
   "metadata": {},
   "source": [
    "# Listas\n",
    "\n",
    "* Edifício de partamentos"
   ]
  },
  {
   "cell_type": "code",
   "execution_count": 1,
   "metadata": {},
   "outputs": [],
   "source": [
    "edificio_terreo = \"Familia Souza\"\n",
    "edificio_1o_andar = \"Familia Gomes\"\n",
    "edificio_2o_andar = \"Sr Jorge\"\n",
    "edificio_3o_andar = \"Familia Silva\""
   ]
  },
  {
   "cell_type": "code",
   "execution_count": 2,
   "metadata": {},
   "outputs": [],
   "source": [
    "edificio = [\"Familia Souza\", \"Familia Gomes\", \"Sr Jorge\", \"Familia Silva\"]"
   ]
  },
  {
   "cell_type": "code",
   "execution_count": 3,
   "metadata": {},
   "outputs": [
    {
     "name": "stdout",
     "output_type": "stream",
     "text": [
      "Familia Souza\n"
     ]
    }
   ],
   "source": [
    "print(edificio[0])"
   ]
  },
  {
   "cell_type": "code",
   "execution_count": 4,
   "metadata": {},
   "outputs": [
    {
     "name": "stdout",
     "output_type": "stream",
     "text": [
      "Familia Gomes\n"
     ]
    }
   ],
   "source": [
    "print(edificio[1])"
   ]
  },
  {
   "cell_type": "code",
   "execution_count": 5,
   "metadata": {},
   "outputs": [
    {
     "name": "stdout",
     "output_type": "stream",
     "text": [
      "Sr Jorge\n"
     ]
    }
   ],
   "source": [
    "print(edificio[2])"
   ]
  },
  {
   "cell_type": "code",
   "execution_count": 6,
   "metadata": {},
   "outputs": [
    {
     "name": "stdout",
     "output_type": "stream",
     "text": [
      "Familia Silva\n"
     ]
    }
   ],
   "source": [
    "print(edificio[3])"
   ]
  },
  {
   "cell_type": "code",
   "execution_count": 7,
   "metadata": {},
   "outputs": [
    {
     "data": {
      "text/plain": [
       "list"
      ]
     },
     "execution_count": 7,
     "metadata": {},
     "output_type": "execute_result"
    }
   ],
   "source": [
    "type(edificio)"
   ]
  },
  {
   "cell_type": "markdown",
   "metadata": {},
   "source": [
    "## Adicionar novos termos à lista\n",
    "\n",
    "função: append"
   ]
  },
  {
   "cell_type": "code",
   "execution_count": 11,
   "metadata": {},
   "outputs": [],
   "source": [
    "edificio.append(\"Nova familia\")"
   ]
  },
  {
   "cell_type": "code",
   "execution_count": 12,
   "metadata": {},
   "outputs": [],
   "source": [
    "edificio[5] = \"teste\""
   ]
  },
  {
   "cell_type": "code",
   "execution_count": 13,
   "metadata": {},
   "outputs": [
    {
     "data": {
      "text/plain": [
       "['Familia Souza',\n",
       " 'Familia Gomes',\n",
       " 'Sr Jorge',\n",
       " 'Familia Silva',\n",
       " 'Nova familia',\n",
       " 'teste']"
      ]
     },
     "execution_count": 13,
     "metadata": {},
     "output_type": "execute_result"
    }
   ],
   "source": [
    "edificio"
   ]
  },
  {
   "cell_type": "code",
   "execution_count": 14,
   "metadata": {},
   "outputs": [],
   "source": [
    "# Uma lista vazia\n",
    "lista = []"
   ]
  },
  {
   "cell_type": "code",
   "execution_count": 15,
   "metadata": {},
   "outputs": [],
   "source": [
    "# Uma lista com três notas\n",
    "notas = [7.5, 9, 8.3]"
   ]
  },
  {
   "cell_type": "code",
   "execution_count": 16,
   "metadata": {},
   "outputs": [
    {
     "name": "stdout",
     "output_type": "stream",
     "text": [
      "9\n"
     ]
    }
   ],
   "source": [
    "print(notas[1])"
   ]
  },
  {
   "cell_type": "code",
   "execution_count": 17,
   "metadata": {},
   "outputs": [],
   "source": [
    "# alterando valores\n",
    "notas[0] = 8.7"
   ]
  },
  {
   "cell_type": "code",
   "execution_count": 18,
   "metadata": {},
   "outputs": [
    {
     "name": "stdout",
     "output_type": "stream",
     "text": [
      "[8.7, 9, 8.3]\n"
     ]
    }
   ],
   "source": [
    "print(notas)"
   ]
  },
  {
   "cell_type": "code",
   "execution_count": 3,
   "metadata": {},
   "outputs": [
    {
     "name": "stdout",
     "output_type": "stream",
     "text": [
      "Média:  7.50\n"
     ]
    }
   ],
   "source": [
    "notas = [6, 7, 5, 8, 9, 10]\n",
    "soma = 0\n",
    "x = 0\n",
    "\n",
    "while x < len(notas):\n",
    "    soma = soma + notas[x]\n",
    "    x = x + 1\n",
    "print(f'Média: {soma/len(notas): .2f}')"
   ]
  },
  {
   "cell_type": "code",
   "execution_count": 24,
   "metadata": {},
   "outputs": [
    {
     "name": "stdout",
     "output_type": "stream",
     "text": [
      "Média:  7.00\n"
     ]
    }
   ],
   "source": [
    "soma = 0\n",
    "for x in notas:\n",
    "    soma = soma + x\n",
    "print(f'Média: {soma/len(notas): .2f}')"
   ]
  },
  {
   "cell_type": "code",
   "execution_count": 23,
   "metadata": {},
   "outputs": [
    {
     "data": {
      "text/plain": [
       "5"
      ]
     },
     "execution_count": 23,
     "metadata": {},
     "output_type": "execute_result"
    }
   ],
   "source": [
    "len(notas)"
   ]
  },
  {
   "cell_type": "markdown",
   "metadata": {},
   "source": [
    "## Exercícios\n",
    "\n",
    "Faça um programa que leia uma lista de 5 números inteiros e imprima o resultado."
   ]
  },
  {
   "cell_type": "code",
   "execution_count": 9,
   "metadata": {},
   "outputs": [
    {
     "name": "stdout",
     "output_type": "stream",
     "text": [
      "Digite um número:5\n",
      "Digite um número:7\n",
      "Digite um número:8\n",
      "Digite um número:9\n",
      "Digite um número:13\n",
      "Lista: [5, 7, 8, 9, 13]\n"
     ]
    }
   ],
   "source": [
    "number_list = []\n",
    "\n",
    "i = 1\n",
    "while i <= 5:\n",
    "    n = int(input(\"Digite um número:\"))\n",
    "    number_list.append(n)\n",
    "    i = i + 1\n",
    "print(\"Lista:\", number_list)"
   ]
  },
  {
   "cell_type": "code",
   "execution_count": 10,
   "metadata": {},
   "outputs": [
    {
     "name": "stdout",
     "output_type": "stream",
     "text": [
      "Digite um número:1\n",
      "Digite um número:1\n",
      "Digite um número:2\n",
      "Digite um número:3\n",
      "Digite um número:5\n",
      "Lista: [1, 1, 2, 3, 5]\n"
     ]
    }
   ],
   "source": [
    "number_list = []\n",
    "\n",
    "for i in range(5):\n",
    "    n = int(input(\"Digite um número:\"))\n",
    "    number_list.append(n)\n",
    "\n",
    "print(\"Lista:\", number_list)"
   ]
  },
  {
   "cell_type": "markdown",
   "metadata": {},
   "source": [
    "Faça um programa que leia quatro notas, mostre as notas e a média na tela"
   ]
  },
  {
   "cell_type": "code",
   "execution_count": 11,
   "metadata": {},
   "outputs": [
    {
     "name": "stdout",
     "output_type": "stream",
     "text": [
      "Nota:5\n",
      "Nota:6\n",
      "Nota:7\n",
      "Nota:8\n",
      "Média [5.0, 6.0, 7.0, 8.0] é 6.5\n"
     ]
    }
   ],
   "source": [
    "grades = []\n",
    "k = 1\n",
    "\n",
    "while k <=4:\n",
    "    grades.append(float(input(\"Nota:\")))\n",
    "    k = k + 1\n",
    "total = k = 0\n",
    "while k <=3:\n",
    "    total = total + grades[k]\n",
    "    k = k + 1\n",
    "print(f'Média {grades} é {total/4:.1f}')"
   ]
  },
  {
   "cell_type": "code",
   "execution_count": 18,
   "metadata": {},
   "outputs": [
    {
     "name": "stdout",
     "output_type": "stream",
     "text": [
      "Nota:5\n",
      "Nota:6\n",
      "Nota:7\n",
      "Nota:8\n",
      "Média [5.0, 6.0, 7.0, 8.0] é 6.5\n"
     ]
    }
   ],
   "source": [
    "grades = []\n",
    "\n",
    "for k in range(4):\n",
    "    grades.append(float(input(\"Nota:\")))\n",
    "\n",
    "total = 0\n",
    "for k in range(len(grades)):\n",
    "    total = total + grades[k]\n",
    "    \n",
    "print(f'Média {grades} é {total/4:.1f}')"
   ]
  },
  {
   "cell_type": "code",
   "execution_count": 8,
   "metadata": {},
   "outputs": [
    {
     "name": "stdout",
     "output_type": "stream",
     "text": [
      "[6, 7, 5, 8, 9, 10]\n"
     ]
    }
   ],
   "source": [
    "print(notas)"
   ]
  },
  {
   "cell_type": "markdown",
   "metadata": {},
   "source": [
    "## Números aleatórios"
   ]
  },
  {
   "cell_type": "code",
   "execution_count": 21,
   "metadata": {},
   "outputs": [
    {
     "data": {
      "text/plain": [
       "70"
      ]
     },
     "execution_count": 21,
     "metadata": {},
     "output_type": "execute_result"
    }
   ],
   "source": [
    "import random\n",
    "random.randint(1, 100)"
   ]
  },
  {
   "cell_type": "code",
   "execution_count": 22,
   "metadata": {},
   "outputs": [
    {
     "data": {
      "text/plain": [
       "'Jose'"
      ]
     },
     "execution_count": 22,
     "metadata": {},
     "output_type": "execute_result"
    }
   ],
   "source": [
    "students = ['Jose', 'Joao', 'Maria', 'Pedro', 'Diogo']\n",
    "random.choice(students)"
   ]
  },
  {
   "cell_type": "code",
   "execution_count": 23,
   "metadata": {},
   "outputs": [],
   "source": [
    "random.shuffle(students)"
   ]
  },
  {
   "cell_type": "code",
   "execution_count": 24,
   "metadata": {},
   "outputs": [
    {
     "data": {
      "text/plain": [
       "['Maria', 'Diogo', 'Pedro', 'Joao', 'Jose']"
      ]
     },
     "execution_count": 24,
     "metadata": {},
     "output_type": "execute_result"
    }
   ],
   "source": [
    "students"
   ]
  },
  {
   "cell_type": "markdown",
   "metadata": {},
   "source": [
    "Defina uma função \"embaralha\" que retorne as letras de uma string misturadas. Dica: use list() para converter a sua string em lista"
   ]
  },
  {
   "cell_type": "code",
   "execution_count": null,
   "metadata": {},
   "outputs": [],
   "source": []
  }
 ],
 "metadata": {
  "kernelspec": {
   "display_name": "Python 3",
   "language": "python",
   "name": "python3"
  },
  "language_info": {
   "codemirror_mode": {
    "name": "ipython",
    "version": 3
   },
   "file_extension": ".py",
   "mimetype": "text/x-python",
   "name": "python",
   "nbconvert_exporter": "python",
   "pygments_lexer": "ipython3",
   "version": "3.8.3"
  }
 },
 "nbformat": 4,
 "nbformat_minor": 4
}
