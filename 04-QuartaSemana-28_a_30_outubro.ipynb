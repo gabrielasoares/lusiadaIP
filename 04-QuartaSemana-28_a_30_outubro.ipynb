{
 "cells": [
  {
   "cell_type": "markdown",
   "metadata": {},
   "source": [
    "# Variáveis Strings\n",
    "\n",
    "* Armazenam cadeias de caracteres como nomes e textos em geral\n",
    "* Chamamos de cadeias de caracteres uma sequência de símbolos como letras, números, sinais de pontuação, etc.\n",
    "* Para diferenciar seus comandos de uma string, usamos aspas no início e no fim\n",
    "* Espaços em branco não são um problema"
   ]
  },
  {
   "cell_type": "code",
   "execution_count": 1,
   "metadata": {},
   "outputs": [],
   "source": [
    "texto = \"O dia está chuvoso\""
   ]
  },
  {
   "cell_type": "code",
   "execution_count": 2,
   "metadata": {},
   "outputs": [],
   "source": [
    "texto2 = 'Amanhã vai melhorar'"
   ]
  },
  {
   "cell_type": "code",
   "execution_count": 4,
   "metadata": {},
   "outputs": [
    {
     "data": {
      "text/plain": [
       "str"
      ]
     },
     "execution_count": 4,
     "metadata": {},
     "output_type": "execute_result"
    }
   ],
   "source": [
    "type(texto)"
   ]
  },
  {
   "cell_type": "code",
   "execution_count": 5,
   "metadata": {},
   "outputs": [
    {
     "data": {
      "text/plain": [
       "str"
      ]
     },
     "execution_count": 5,
     "metadata": {},
     "output_type": "execute_result"
    }
   ],
   "source": [
    "type(texto2)"
   ]
  },
  {
   "cell_type": "code",
   "execution_count": 6,
   "metadata": {},
   "outputs": [
    {
     "data": {
      "text/plain": [
       "18"
      ]
     },
     "execution_count": 6,
     "metadata": {},
     "output_type": "execute_result"
    }
   ],
   "source": [
    "# função len, retorna tamanho de alguma estrutura\n",
    "len(texto)"
   ]
  },
  {
   "cell_type": "markdown",
   "metadata": {},
   "source": [
    "* Podemos acessar os caracteres da string utilizando um número inteiro para representar sua posição\n",
    "* Este número é chamado de índice, e começamos a contar de zero\n",
    "* Acessamos o caracter fornecendo o índice entre parênteses retos ([])"
   ]
  },
  {
   "cell_type": "code",
   "execution_count": 7,
   "metadata": {},
   "outputs": [
    {
     "data": {
      "text/plain": [
       "' '"
      ]
     },
     "execution_count": 7,
     "metadata": {},
     "output_type": "execute_result"
    }
   ],
   "source": [
    "texto[5]"
   ]
  },
  {
   "cell_type": "code",
   "execution_count": 8,
   "metadata": {},
   "outputs": [
    {
     "data": {
      "text/plain": [
       "'O dia está chuvoso'"
      ]
     },
     "execution_count": 8,
     "metadata": {},
     "output_type": "execute_result"
    }
   ],
   "source": [
    "texto"
   ]
  },
  {
   "cell_type": "code",
   "execution_count": 9,
   "metadata": {},
   "outputs": [
    {
     "data": {
      "text/plain": [
       "'O'"
      ]
     },
     "execution_count": 9,
     "metadata": {},
     "output_type": "execute_result"
    }
   ],
   "source": [
    "texto[0]"
   ]
  },
  {
   "cell_type": "code",
   "execution_count": 10,
   "metadata": {},
   "outputs": [
    {
     "ename": "IndexError",
     "evalue": "string index out of range",
     "output_type": "error",
     "traceback": [
      "\u001b[1;31m---------------------------------------------------------------------------\u001b[0m",
      "\u001b[1;31mIndexError\u001b[0m                                Traceback (most recent call last)",
      "\u001b[1;32m<ipython-input-10-ac25787e21fa>\u001b[0m in \u001b[0;36m<module>\u001b[1;34m\u001b[0m\n\u001b[1;32m----> 1\u001b[1;33m \u001b[0mtexto\u001b[0m\u001b[1;33m[\u001b[0m\u001b[1;36m18\u001b[0m\u001b[1;33m]\u001b[0m\u001b[1;33m\u001b[0m\u001b[1;33m\u001b[0m\u001b[0m\n\u001b[0m",
      "\u001b[1;31mIndexError\u001b[0m: string index out of range"
     ]
    }
   ],
   "source": [
    "texto[18]"
   ]
  },
  {
   "cell_type": "markdown",
   "metadata": {},
   "source": [
    "## Operações com strings\n",
    "* Operações básicas: fatiamento, concatenação e composição\n",
    "    * Fatiamento: permite utilizar parte da string\n",
    "    * Concatenação: juntar duas ou mais strings\n",
    "    * Composição: utilizada em mensagens que enviamos para a tela e consiste em utilizar strings como modelos onde podemos inserir dados"
   ]
  },
  {
   "cell_type": "markdown",
   "metadata": {},
   "source": [
    "### Concatenação"
   ]
  },
  {
   "cell_type": "code",
   "execution_count": 11,
   "metadata": {},
   "outputs": [
    {
     "name": "stdout",
     "output_type": "stream",
     "text": [
      "Batatinha quando nasce\n"
     ]
    }
   ],
   "source": [
    "a = \"Batatinha \"\n",
    "b = \"quando nasce\"\n",
    "print(a+b)"
   ]
  },
  {
   "cell_type": "code",
   "execution_count": 12,
   "metadata": {},
   "outputs": [
    {
     "name": "stdout",
     "output_type": "stream",
     "text": [
      "Batatinha Batatinha Batatinha \n"
     ]
    }
   ],
   "source": [
    "print(a*3)"
   ]
  },
  {
   "cell_type": "markdown",
   "metadata": {},
   "source": [
    "### f-strings (Composição)\n",
    "\n",
    "* Juntar várias strings nem sempre é prático\n",
    "* Podemos usar f-strings. Tudo o que estiver entre {} será substituído, se estiver definido antes."
   ]
  },
  {
   "cell_type": "code",
   "execution_count": 14,
   "metadata": {},
   "outputs": [
    {
     "name": "stdout",
     "output_type": "stream",
     "text": [
      "João tem 20 anos\n"
     ]
    }
   ],
   "source": [
    "idade = 20\n",
    "print(f'João tem {idade} anos')"
   ]
  },
  {
   "cell_type": "code",
   "execution_count": 17,
   "metadata": {},
   "outputs": [
    {
     "name": "stdout",
     "output_type": "stream",
     "text": [
      "Preço $: 10.2\n"
     ]
    }
   ],
   "source": [
    "preco = 10.15\n",
    "print(f'Preço $: {preco:.1f}')"
   ]
  },
  {
   "cell_type": "markdown",
   "metadata": {},
   "source": [
    "### Fatiamento "
   ]
  },
  {
   "cell_type": "code",
   "execution_count": 18,
   "metadata": {},
   "outputs": [
    {
     "name": "stdout",
     "output_type": "stream",
     "text": [
      "01\n"
     ]
    }
   ],
   "source": [
    "x = \"0123456789\"\n",
    "print(x[0:2])"
   ]
  },
  {
   "cell_type": "code",
   "execution_count": 19,
   "metadata": {},
   "outputs": [
    {
     "name": "stdout",
     "output_type": "stream",
     "text": [
      "1\n"
     ]
    }
   ],
   "source": [
    "print(x[1:2])"
   ]
  },
  {
   "cell_type": "code",
   "execution_count": 20,
   "metadata": {},
   "outputs": [
    {
     "name": "stdout",
     "output_type": "stream",
     "text": [
      "23\n"
     ]
    }
   ],
   "source": [
    "print(x[2:4])"
   ]
  },
  {
   "cell_type": "code",
   "execution_count": 21,
   "metadata": {},
   "outputs": [
    {
     "name": "stdout",
     "output_type": "stream",
     "text": [
      "01234\n"
     ]
    }
   ],
   "source": [
    "print(x[0:5])"
   ]
  },
  {
   "cell_type": "code",
   "execution_count": 22,
   "metadata": {},
   "outputs": [
    {
     "name": "stdout",
     "output_type": "stream",
     "text": [
      "1234567\n"
     ]
    }
   ],
   "source": [
    "print(x[1:8])"
   ]
  },
  {
   "cell_type": "markdown",
   "metadata": {},
   "source": [
    "* Podemos omitir índices, substituindo pelo extremo correspondente e também podemos ter índices negativos"
   ]
  },
  {
   "cell_type": "code",
   "execution_count": 23,
   "metadata": {},
   "outputs": [
    {
     "name": "stdout",
     "output_type": "stream",
     "text": [
      "01\n"
     ]
    }
   ],
   "source": [
    "print(x[:2])"
   ]
  },
  {
   "cell_type": "code",
   "execution_count": 24,
   "metadata": {},
   "outputs": [
    {
     "name": "stdout",
     "output_type": "stream",
     "text": [
      "56789\n"
     ]
    }
   ],
   "source": [
    "print(x[5:])"
   ]
  },
  {
   "cell_type": "code",
   "execution_count": 27,
   "metadata": {},
   "outputs": [
    {
     "name": "stdout",
     "output_type": "stream",
     "text": [
      "9\n"
     ]
    }
   ],
   "source": [
    "print(x[-1])"
   ]
  },
  {
   "cell_type": "code",
   "execution_count": 26,
   "metadata": {},
   "outputs": [
    {
     "name": "stdout",
     "output_type": "stream",
     "text": [
      "2345678\n"
     ]
    }
   ],
   "source": [
    "print(x[2:-1])"
   ]
  },
  {
   "cell_type": "code",
   "execution_count": 29,
   "metadata": {},
   "outputs": [
    {
     "name": "stdout",
     "output_type": "stream",
     "text": [
      "678\n"
     ]
    }
   ],
   "source": [
    "print(x[-4:-1])"
   ]
  },
  {
   "cell_type": "code",
   "execution_count": 32,
   "metadata": {},
   "outputs": [
    {
     "name": "stdout",
     "output_type": "stream",
     "text": [
      "0123456789\n"
     ]
    }
   ],
   "source": [
    "print(x[:])"
   ]
  },
  {
   "cell_type": "markdown",
   "metadata": {},
   "source": [
    "## Variáveis ao longo do tempo"
   ]
  },
  {
   "cell_type": "markdown",
   "metadata": {},
   "source": [
    "## Teste de mesa, Simulação ou Debug\n",
    "* Entender que o valor da variável pode mudar durante a execução do programa"
   ]
  },
  {
   "cell_type": "code",
   "execution_count": 14,
   "metadata": {},
   "outputs": [
    {
     "name": "stdout",
     "output_type": "stream",
     "text": [
      "600\n"
     ]
    }
   ],
   "source": [
    "divida = 0\n",
    "compra = 100\n",
    "divida = divida + compra\n",
    "compra = 200\n",
    "divida = divida + compra\n",
    "compra = 300\n",
    "divida = divida + compra\n",
    "\n",
    "print(divida)"
   ]
  },
  {
   "cell_type": "markdown",
   "metadata": {},
   "source": [
    "## Condições\n",
    "* Nem sempre o programa deve executar todas as linhas\n",
    "* Passar pelas linhas do programa é como andar de carro em uma cidade\n",
    "* Existem pontos onde decidimos qual caminho escolher"
   ]
  },
  {
   "cell_type": "markdown",
   "metadata": {},
   "source": [
    "## if (Se)\n",
    "Exemplo: Ler dois valores inteiros e imprimir o maior deles"
   ]
  },
  {
   "cell_type": "code",
   "execution_count": 18,
   "metadata": {},
   "outputs": [
    {
     "name": "stdout",
     "output_type": "stream",
     "text": [
      "Primeiro valor:5\n",
      "Segundo valor:8\n",
      "8\n"
     ]
    }
   ],
   "source": [
    "a = int(input(\"Primeiro valor:\"))\n",
    "b = int(input(\"Segundo valor:\"))\n",
    "\n",
    "if a > b:\n",
    "    print(a)\n",
    "\n",
    "    \n",
    "if b > a:\n",
    "    print(b)\n",
    "\n",
    "if a == b:\n",
    "    print(\"São iguais\")"
   ]
  },
  {
   "cell_type": "markdown",
   "metadata": {},
   "source": [
    "Exemplo 2: Verificar se um carro é novo ou velho\n",
    "Se o carro tiver no máximo 3 anos de idade é novo."
   ]
  },
  {
   "cell_type": "code",
   "execution_count": 19,
   "metadata": {},
   "outputs": [
    {
     "name": "stdout",
     "output_type": "stream",
     "text": [
      "Digite a idade do seu carro:3\n",
      "Seu carro é novo\n"
     ]
    }
   ],
   "source": [
    "idade = int(input(\"Digite a idade do seu carro:\"))\n",
    "if idade <= 3:\n",
    "    print(\"Seu carro é novo\")\n",
    "if idade > 3:\n",
    "    print(\"Seu carro é velho\")"
   ]
  },
  {
   "cell_type": "markdown",
   "metadata": {},
   "source": [
    "Exemplo 3: Pergunte a velocidade de um carro, supondo um valor inteiro. Caso ultrapasse os 110 km/h, exiba uma mensagem dizendo que o usuário foi multado. Neste caso, exiba o valor da multa cobrando 5 euros por km acima de 110km/h."
   ]
  },
  {
   "cell_type": "code",
   "execution_count": 30,
   "metadata": {},
   "outputs": [
    {
     "name": "stdout",
     "output_type": "stream",
     "text": [
      "Velocidade:113\n",
      "Você foi multado!\n",
      "Multa $ 15.00\n"
     ]
    }
   ],
   "source": [
    "velocidade = int(input(\"Velocidade:\"))\n",
    "\n",
    "if velocidade > 110:\n",
    "    print(\"Você foi multado!\")\n",
    "    multa = (velocidade - 110)*5\n",
    "    print(f'Multa $ {multa:.2f}')"
   ]
  },
  {
   "cell_type": "markdown",
   "metadata": {},
   "source": [
    "## else (Senão)\n",
    "* O que fazer quando a condição do if é falsa?"
   ]
  },
  {
   "cell_type": "code",
   "execution_count": 31,
   "metadata": {},
   "outputs": [
    {
     "name": "stdout",
     "output_type": "stream",
     "text": [
      "Digite a idade do seu carro:5\n",
      "Seu carro é velho\n"
     ]
    }
   ],
   "source": [
    "idade = int(input(\"Digite a idade do seu carro:\"))\n",
    "if idade <= 3:\n",
    "    print(\"Seu carro é novo\")\n",
    "if idade > 3:\n",
    "    print(\"Seu carro é velho\")"
   ]
  },
  {
   "cell_type": "code",
   "execution_count": 32,
   "metadata": {},
   "outputs": [
    {
     "name": "stdout",
     "output_type": "stream",
     "text": [
      "Digite a idade do seu carro:5\n",
      "Seu carro é velho\n"
     ]
    }
   ],
   "source": [
    "idade = int(input(\"Digite a idade do seu carro:\"))\n",
    "if idade <= 3:\n",
    "    print(\"Seu carro é novo\")\n",
    "else:\n",
    "    print(\"Seu carro é velho\")"
   ]
  },
  {
   "cell_type": "markdown",
   "metadata": {},
   "source": [
    "## Estruturas aninhadas"
   ]
  },
  {
   "cell_type": "markdown",
   "metadata": {},
   "source": [
    "Exemplo: reescrever o código abaixo usando else"
   ]
  },
  {
   "cell_type": "code",
   "execution_count": 33,
   "metadata": {},
   "outputs": [
    {
     "name": "stdout",
     "output_type": "stream",
     "text": [
      "Primeiro valor:5\n",
      "Segundo valor:3\n",
      "5\n"
     ]
    }
   ],
   "source": [
    "a = int(input(\"Primeiro valor:\"))\n",
    "b = int(input(\"Segundo valor:\"))\n",
    "\n",
    "if a > b:\n",
    "    print(a)\n",
    "else:\n",
    "    if b > a:\n",
    "        print(b)\n",
    "    else:\n",
    "        print(\"São iguais\")"
   ]
  },
  {
   "cell_type": "markdown",
   "metadata": {},
   "source": [
    "## elif"
   ]
  },
  {
   "cell_type": "code",
   "execution_count": 34,
   "metadata": {},
   "outputs": [
    {
     "name": "stdout",
     "output_type": "stream",
     "text": [
      "Primeiro valor:5\n",
      "Segundo valor:3\n",
      "5\n"
     ]
    }
   ],
   "source": [
    "a = int(input(\"Primeiro valor:\"))\n",
    "b = int(input(\"Segundo valor:\"))\n",
    "\n",
    "if a > b:\n",
    "    print(a)\n",
    "elif b > a:\n",
    "    print(b)\n",
    "else:\n",
    "    print(\"São iguais\")"
   ]
  },
  {
   "cell_type": "markdown",
   "metadata": {},
   "source": [
    "Exemplo: Considere a empresa de telefonia Vocês. Abaixo de 200 minutos, a empresa cobra $ \\$0.10$ por minuto. Entre 200 e 400 minutos, o preço por minuto é $\\$0.05$. Acima de 400 minutos, o preço por minuto é $\\$0.01$ Calcule a conta de telefone a partir do número de minutos."
   ]
  },
  {
   "cell_type": "code",
   "execution_count": 35,
   "metadata": {},
   "outputs": [
    {
     "name": "stdout",
     "output_type": "stream",
     "text": [
      "Minutos:300\n",
      "$:  15.00\n"
     ]
    }
   ],
   "source": [
    "minutos = int(input('Minutos:'))\n",
    "\n",
    "if minutos < 200:\n",
    "    preco = 0.1\n",
    "else:\n",
    "    if minutos <= 400:\n",
    "        preco = 0.05\n",
    "    else:\n",
    "        preco = 0.01\n",
    "print(f'$: {preco*minutos: .2f}')"
   ]
  },
  {
   "cell_type": "code",
   "execution_count": null,
   "metadata": {},
   "outputs": [],
   "source": []
  }
 ],
 "metadata": {
  "kernelspec": {
   "display_name": "Python 3",
   "language": "python",
   "name": "python3"
  },
  "language_info": {
   "codemirror_mode": {
    "name": "ipython",
    "version": 3
   },
   "file_extension": ".py",
   "mimetype": "text/x-python",
   "name": "python",
   "nbconvert_exporter": "python",
   "pygments_lexer": "ipython3",
   "version": "3.8.3"
  }
 },
 "nbformat": 4,
 "nbformat_minor": 4
}
