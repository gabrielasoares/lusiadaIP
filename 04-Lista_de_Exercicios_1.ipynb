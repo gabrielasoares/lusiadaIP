{
 "cells": [
  {
   "cell_type": "markdown",
   "metadata": {},
   "source": [
    "1. Faça um programa que peça dois números inteiros e imprima a soma desses dois números.\n",
    "2. Escreva um programa que leia o valor em metros e o exiba convertido em milímetros.\n",
    "3. Faça um programa que calcule o aumento de um salário. Ele deve solicitar o valor do salário e a percentagem do aumento. Exiba o valor do aumento e do novo salário.\n",
    "4. Solicite o preço de uma mercadoria e o percetual de desconto. Exiba o valor do esconto e o preço a pagar.\n",
    "5. Calcule o tempo de uma viagem de carro. Pergunte a distância a percorrer e a velocidade média esperada para a viagem.\n",
    "6. Converta uma temperatura digitada em Celsius para Fahrenheit.\n",
    "7. Faça agora o contrário, de Fahrenheit para Celsius.\n",
    "8. Escreva um programa que perunte a quantidade de km percorridos por um carro alugado pelo usuário, assim como a quantidade de dias pelos quais o carro foi alugado. Calcule o preço a pagar, sabendo que o carro custa 20 dinheiros por dia e 0.50 cêntimos por km rodado.\n",
    "9. Escreva um programa para calcular a redução do tempo de vida de um fumador. Pergunte a quantidade de cigarros fumados por dia e quantos anos ele já fumou. Considere que um fumador perde 10 minutos de vida a cada cigarro, calcule quantos dias de vida um fumador perderá. Exiba o total de dias."
   ]
  },
  {
   "cell_type": "code",
   "execution_count": null,
   "metadata": {},
   "outputs": [],
   "source": []
  }
 ],
 "metadata": {
  "kernelspec": {
   "display_name": "Python 3",
   "language": "python",
   "name": "python3"
  },
  "language_info": {
   "codemirror_mode": {
    "name": "ipython",
    "version": 3
   },
   "file_extension": ".py",
   "mimetype": "text/x-python",
   "name": "python",
   "nbconvert_exporter": "python",
   "pygments_lexer": "ipython3",
   "version": "3.8.3"
  }
 },
 "nbformat": 4,
 "nbformat_minor": 4
}
